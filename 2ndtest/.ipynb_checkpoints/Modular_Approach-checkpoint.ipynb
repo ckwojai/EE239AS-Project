{
 "cells": [
  {
   "cell_type": "code",
   "execution_count": 2,
   "metadata": {},
   "outputs": [
    {
     "name": "stderr",
     "output_type": "stream",
     "text": [
      "/Users/wilsonchang/Desktop/Project/2ndtest/.env/lib/python3.6/site-packages/h5py/__init__.py:36: FutureWarning: Conversion of the second argument of issubdtype from `float` to `np.floating` is deprecated. In future, it will be treated as `np.float64 == np.dtype(float).type`.\n",
      "  from ._conv import register_converters as _register_converters\n"
     ]
    }
   ],
   "source": [
    "import numpy as np\n",
    "import h5py\n",
    "import torch\n",
    "import torch.utils.data as data_utils\n",
    "from torch.utils.data.dataset import random_split\n",
    "import numpy as np\n",
    "from torch.autograd import Variable\n",
    "import torch.nn as nn\n",
    "import torch.optim as optim"
   ]
  },
  {
   "cell_type": "markdown",
   "metadata": {
    "raw_mimetype": "text/markdown"
   },
   "source": [
    "# Helper Clases / Functions"
   ]
  },
  {
   "cell_type": "code",
   "execution_count": 32,
   "metadata": {},
   "outputs": [],
   "source": [
    "def checkAccuracy(model, dataloader):\n",
    "    y_pred_tot = []\n",
    "    y_sample_tot = []\n",
    "    for i_batch, sample_batched in enumerate(dataloader):\n",
    "        X_sample, y_sample = sample_batched\n",
    "        # Flip axis first\n",
    "        X_sample = torch.Tensor(np.moveaxis(X_sample.numpy(), -1, 0))\n",
    "        X_sample, y_sample = Variable(X_sample), Variable(y_sample)\n",
    "        scores = model(X_sample)\n",
    "        #loss = loss_fn(scores, y_sample.long())\n",
    "        #print('val loss: %f' % loss)\n",
    "        _, y_pred = torch.max(scores, 1)\n",
    "        y_pred_tot.append(y_pred.data.numpy())\n",
    "        y_sample_tot.append(y_sample.data.numpy())\n",
    "    acc = np.mean(np.concatenate(y_pred_tot) == np.concatenate(y_sample_tot))\n",
    "    return acc\n",
    "class Flatten(nn.Module):\n",
    "    def forward(self, x):\n",
    "        out, _ = x\n",
    "        T, N, H = out.size() \n",
    "        return out.view(H, -1)"
   ]
  },
  {
   "cell_type": "markdown",
   "metadata": {},
   "source": [
    "# Load Data"
   ]
  },
  {
   "cell_type": "code",
   "execution_count": 4,
   "metadata": {},
   "outputs": [
    {
     "name": "stdout",
     "output_type": "stream",
     "text": [
      "<HDF5 file \"A01T_slice.mat\" (mode r)>\n",
      "(288, 23, 1000)\n"
     ]
    }
   ],
   "source": [
    "A01T = h5py.File('./../project_datasets/A01T_slice.mat', 'r')\n",
    "print (A01T)\n",
    "X = np.copy(A01T['image'])\n",
    "y = np.copy(A01T['type'])\n",
    "X = X[:, 0:23, :] # only goes to 23 since you dont use last 3 channels\n",
    "# X = np.moveaxis(X, -1, 0)\n",
    "y = y[0,0:X.shape[0]:1]\n",
    "#subtract 769 so classes start at 0\n",
    "y = y - 769\n",
    "N, E, T = np.shape(X)\n",
    "print (np.shape(X))"
   ]
  },
  {
   "cell_type": "markdown",
   "metadata": {},
   "source": [
    "# Make DataLoaders"
   ]
  },
  {
   "cell_type": "code",
   "execution_count": 5,
   "metadata": {},
   "outputs": [],
   "source": [
    "bs = 50\n",
    "data = data_utils.TensorDataset(torch.Tensor(X), torch.Tensor(y))\n",
    "dset = {}\n",
    "dset['train'], dset['val'], dset['test'] = random_split(data, [N-100, 50, 50])\n",
    "dataloaders = {x: data_utils.DataLoader(dset[x], batch_size=bs, shuffle=True, num_workers=4) for x in ['train', 'val', 'test']}"
   ]
  },
  {
   "cell_type": "markdown",
   "metadata": {},
   "source": [
    "# Define Model"
   ]
  },
  {
   "cell_type": "code",
   "execution_count": 5,
   "metadata": {},
   "outputs": [],
   "source": [
    "# Working Model\n",
    "dtype = torch.FloatTensor\n",
    "model = nn.Sequential(\n",
    "    Flatten(),\n",
    "    nn.Linear(E*T, 1024),\n",
    "    nn.ReLU(inplace=True),\n",
    "    nn.Linear(1024, 4),\n",
    ")\n",
    "model.type(dtype)\n",
    "loss_fn = nn.CrossEntropyLoss().type(dtype)\n",
    "optimizer = optim.Adam(model.parameters(), lr=1e-3)"
   ]
  },
  {
   "cell_type": "code",
   "execution_count": 13,
   "metadata": {},
   "outputs": [],
   "source": [
    "dtype = torch.FloatTensor\n",
    "input_size=E\n",
    "hidden_size=20\n",
    "num_layers=2\n",
    "classes = 4\n",
    "model = nn.Sequential(\n",
    "    nn.LSTM(input_size, hidden_size, num_layers),\n",
    "    Flatten(),\n",
    "    nn.Linear(hidden_size, classes)\n",
    ")\n",
    "model.type(dtype)\n",
    "loss_fn = nn.CrossEntropyLoss().type(dtype)\n",
    "optimizer = optim.Adam(model.parameters(), lr=1e-3)"
   ]
  },
  {
   "cell_type": "markdown",
   "metadata": {},
   "source": [
    "# Training"
   ]
  },
  {
   "cell_type": "code",
   "execution_count": 34,
   "metadata": {},
   "outputs": [],
   "source": [
    "class Rnn(nn.Module):\n",
    "    def __init__(self, in_dim, hidden_dim, n_layer, n_class):\n",
    "        super(Rnn, self).__init__()\n",
    "        self.n_layer = n_layer\n",
    "        self.hidden_dim = hidden_dim\n",
    "        self.lstm = nn.LSTM(in_dim, hidden_dim, n_layer)\n",
    "                            # batch_first=True)\n",
    "        self.classifier = nn.Linear(hidden_dim, n_class)\n",
    "\n",
    "    def forward(self, x):\n",
    "        # h0 = Variable(torch.zeros(self.n_layer, x.size(1),\n",
    "                                #   self.hidden_dim)).cuda()\n",
    "        # c0 = Variable(torch.zeros(self.n_layer, x.size(1),\n",
    "                                #   self.hidden_dim)).cuda()\n",
    "        out, _ = self.lstm(x)\n",
    "        out = out[-1, :, :]\n",
    "        out = self.classifier(out)\n",
    "        return out"
   ]
  },
  {
   "cell_type": "code",
   "execution_count": null,
   "metadata": {
    "scrolled": true
   },
   "outputs": [
    {
     "name": "stdout",
     "output_type": "stream",
     "text": [
      "(0 batch) loss: 1.371613\n",
      "(1 batch) loss: nan\n",
      "(2 batch) loss: 1.356164\n",
      "(3 batch) loss: 1.412303\n",
      "(Epoch 1 / 10) train_acc: 0.260638; val_acc: 0.280000\n",
      "(0 batch) loss: 1.402959\n",
      "(1 batch) loss: 1.363322\n",
      "(2 batch) loss: 1.388704\n",
      "(3 batch) loss: nan\n",
      "(Epoch 2 / 10) train_acc: 0.260638; val_acc: 0.280000\n",
      "(0 batch) loss: 1.381619\n",
      "(1 batch) loss: 1.389731\n",
      "(2 batch) loss: 1.383577\n",
      "(3 batch) loss: nan\n",
      "(Epoch 3 / 10) train_acc: 0.260638; val_acc: 0.280000\n",
      "(0 batch) loss: 1.373602\n",
      "(1 batch) loss: nan\n",
      "(2 batch) loss: 1.416783\n",
      "(3 batch) loss: 1.366599\n",
      "(Epoch 4 / 10) train_acc: 0.260638; val_acc: 0.280000\n",
      "(0 batch) loss: 1.391732\n",
      "(1 batch) loss: 1.373272\n",
      "(2 batch) loss: nan\n",
      "(3 batch) loss: 1.375804\n",
      "(Epoch 5 / 10) train_acc: 0.260638; val_acc: 0.280000\n",
      "(0 batch) loss: 1.349722\n",
      "(1 batch) loss: 1.401205\n",
      "(2 batch) loss: nan\n",
      "(3 batch) loss: 1.404620\n",
      "(Epoch 6 / 10) train_acc: 0.260638; val_acc: 0.280000\n",
      "(0 batch) loss: 1.387676\n",
      "(1 batch) loss: nan\n",
      "(2 batch) loss: 1.403929\n",
      "(3 batch) loss: 1.367083\n",
      "(Epoch 7 / 10) train_acc: 0.260638; val_acc: 0.280000\n",
      "(0 batch) loss: 1.398650\n",
      "(1 batch) loss: 1.392629\n",
      "(2 batch) loss: nan\n",
      "(3 batch) loss: 1.379818\n",
      "(Epoch 8 / 10) train_acc: 0.260638; val_acc: 0.280000\n",
      "(0 batch) loss: 1.395289\n",
      "(1 batch) loss: 1.388747\n",
      "(2 batch) loss: 1.409119\n",
      "(3 batch) loss: nan\n",
      "(Epoch 9 / 10) train_acc: 0.260638; val_acc: 0.280000\n",
      "(0 batch) loss: 1.376758\n",
      "(1 batch) loss: nan\n",
      "(2 batch) loss: 1.367405\n",
      "(3 batch) loss: 1.386135\n"
     ]
    }
   ],
   "source": [
    "num_epochs = 10\n",
    "model = Rnn(E, hidden_size, 2, 4)\n",
    "for epoch in range(num_epochs):\n",
    "    for i, data in enumerate(dataloaders['train'], 0):\n",
    "        X_train, y_train = data\n",
    "        # Wrap them in Variable\n",
    "        # Flip axis first\n",
    "        X_train = torch.Tensor(np.moveaxis(X_train.numpy(), -1, 0))\n",
    "        X_train, y_train = Variable(X_train), Variable(y_train)\n",
    "        # forward + backward + optimize\n",
    "        out = model(X_train)\n",
    "        #print (out)\n",
    "        loss = loss_fn(out, y_train.long())\n",
    "        print('(%d batch) loss: %f' % (i, loss))\n",
    "        # zero the parameter gradients\n",
    "        optimizer.zero_grad()\n",
    "        loss.backward()\n",
    "        #for f in model.parameters():\n",
    "        #    print (f)\n",
    "        optimizer.step()\n",
    "    # print accuracy\n",
    "    train_acc = checkAccuracy(model, dataloaders['train'])\n",
    "    val_acc = checkAccuracy(model, dataloaders['val'])\n",
    "    print('(Epoch %d / %d) train_acc: %f; val_acc: %f' % (epoch+1, num_epochs, train_acc, val_acc))"
   ]
  },
  {
   "cell_type": "code",
   "execution_count": 9,
   "metadata": {},
   "outputs": [
    {
     "ename": "NameError",
     "evalue": "name 'last_output' is not defined",
     "output_type": "error",
     "traceback": [
      "\u001b[0;31m---------------------------------------------------------------------------\u001b[0m",
      "\u001b[0;31mNameError\u001b[0m                                 Traceback (most recent call last)",
      "\u001b[0;32m<ipython-input-9-ded6332cb9c3>\u001b[0m in \u001b[0;36m<module>\u001b[0;34m()\u001b[0m\n\u001b[1;32m      1\u001b[0m \u001b[0my_pred\u001b[0m \u001b[0;34m=\u001b[0m \u001b[0mmodel\u001b[0m\u001b[0;34m(\u001b[0m\u001b[0mX_train\u001b[0m\u001b[0;34m)\u001b[0m\u001b[0;34m\u001b[0m\u001b[0m\n\u001b[0;32m----> 2\u001b[0;31m \u001b[0mloss\u001b[0m \u001b[0;34m=\u001b[0m \u001b[0mloss_fn\u001b[0m\u001b[0;34m(\u001b[0m\u001b[0mlast_output\u001b[0m\u001b[0;34m,\u001b[0m \u001b[0my_train\u001b[0m\u001b[0;34m)\u001b[0m\u001b[0;34m\u001b[0m\u001b[0m\n\u001b[0m\u001b[1;32m      3\u001b[0m \u001b[0mprint\u001b[0m \u001b[0;34m(\u001b[0m\u001b[0mloss\u001b[0m\u001b[0;34m)\u001b[0m\u001b[0;34m\u001b[0m\u001b[0m\n\u001b[1;32m      4\u001b[0m \u001b[0mmodel\u001b[0m\u001b[0;34m\u001b[0m\u001b[0m\n",
      "\u001b[0;31mNameError\u001b[0m: name 'last_output' is not defined"
     ]
    }
   ],
   "source": [
    "y_pred = model(X_train)\n",
    "loss = loss_fn(last_output, y_train)\n",
    "print (loss)\n",
    "model"
   ]
  },
  {
   "cell_type": "code",
   "execution_count": null,
   "metadata": {},
   "outputs": [],
   "source": []
  }
 ],
 "metadata": {
  "celltoolbar": "Raw Cell Format",
  "kernelspec": {
   "display_name": "Python 3",
   "language": "python",
   "name": "python3"
  },
  "language_info": {
   "codemirror_mode": {
    "name": "ipython",
    "version": 3
   },
   "file_extension": ".py",
   "mimetype": "text/x-python",
   "name": "python",
   "nbconvert_exporter": "python",
   "pygments_lexer": "ipython3",
   "version": "3.6.4"
  }
 },
 "nbformat": 4,
 "nbformat_minor": 2
}
