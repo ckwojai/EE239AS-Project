{
 "cells": [
  {
   "cell_type": "code",
   "execution_count": 1,
   "metadata": {},
   "outputs": [
    {
     "name": "stderr",
     "output_type": "stream",
     "text": [
      "/Users/wilsonchang/Desktop/Project/2ndtest/.env/lib/python3.6/site-packages/h5py/__init__.py:36: FutureWarning: Conversion of the second argument of issubdtype from `float` to `np.floating` is deprecated. In future, it will be treated as `np.float64 == np.dtype(float).type`.\n",
      "  from ._conv import register_converters as _register_converters\n"
     ]
    }
   ],
   "source": [
    "import numpy as np\n",
    "import h5py\n",
    "import torch\n",
    "import torch.utils.data as data_utils\n",
    "from torch.utils.data.dataset import random_split\n",
    "import numpy as np\n",
    "from torch.autograd import Variable\n",
    "import torch.nn as nn\n",
    "import torch.optim as optim"
   ]
  },
  {
   "cell_type": "markdown",
   "metadata": {
    "raw_mimetype": "text/markdown"
   },
   "source": [
    "# Helper Clases / Functions"
   ]
  },
  {
   "cell_type": "code",
   "execution_count": 2,
   "metadata": {},
   "outputs": [],
   "source": [
    "def checkAccuracy(model, dataloader):\n",
    "    y_pred_tot = []\n",
    "    y_sample_tot = []\n",
    "    for i_batch, sample_batched in enumerate(dataloader):\n",
    "        X_sample, y_sample = sample_batched\n",
    "        # Flip axis first\n",
    "        X_sample = torch.Tensor(np.moveaxis(X_sample.numpy(), -1, 0))\n",
    "        X_sample, y_sample = Variable(X_sample), Variable(y_sample)\n",
    "        scores = model(X_sample)\n",
    "        #loss = loss_fn(scores, y_sample.long())\n",
    "        #print('val loss: %f' % loss)\n",
    "        _, y_pred = torch.max(scores, 1)\n",
    "        y_pred_tot.append(y_pred.data.numpy())\n",
    "        y_sample_tot.append(y_sample.data.numpy())\n",
    "    acc = np.mean(np.concatenate(y_pred_tot) == np.concatenate(y_sample_tot))\n",
    "    return acc\n",
    "class Flatten(nn.Module):\n",
    "    def forward(self, x):\n",
    "        out, _ = x\n",
    "        T, N, H = out.size() \n",
    "        return out.view(H, -1)"
   ]
  },
  {
   "cell_type": "markdown",
   "metadata": {},
   "source": [
    "# Load Data"
   ]
  },
  {
   "cell_type": "code",
   "execution_count": 3,
   "metadata": {},
   "outputs": [
    {
     "name": "stdout",
     "output_type": "stream",
     "text": [
      "<HDF5 file \"A01T_slice.mat\" (mode r)>\n",
      "(288, 23, 1000)\n"
     ]
    }
   ],
   "source": [
    "A01T = h5py.File('./../project_datasets/A01T_slice.mat', 'r')\n",
    "print (A01T)\n",
    "X = np.copy(A01T['image'])\n",
    "y = np.copy(A01T['type'])\n",
    "X = X[:, 0:23, :] # only goes to 23 since you dont use last 3 channels\n",
    "# X = np.moveaxis(X, -1, 0)\n",
    "y = y[0,0:X.shape[0]:1]\n",
    "#subtract 769 so classes start at 0\n",
    "y = y - 769\n",
    "N, E, T = np.shape(X)\n",
    "print (np.shape(X))"
   ]
  },
  {
   "cell_type": "markdown",
   "metadata": {},
   "source": [
    "# Make DataLoaders"
   ]
  },
  {
   "cell_type": "code",
   "execution_count": 6,
   "metadata": {},
   "outputs": [],
   "source": [
    "bs = 50\n",
    "data = data_utils.TensorDataset(torch.Tensor(X), torch.Tensor(y))\n",
    "dset = {}\n",
    "dset['train'], dset['val'], dset['test'] = random_split(data, [N-100, 50, 50])\n",
    "dataloaders = {x: data_utils.DataLoader(dset[x], batch_size=bs, shuffle=True, num_workers=4) for x in ['train', 'val', 'test']}"
   ]
  },
  {
   "cell_type": "markdown",
   "metadata": {},
   "source": [
    "# Define Model"
   ]
  },
  {
   "cell_type": "code",
   "execution_count": 7,
   "metadata": {},
   "outputs": [],
   "source": [
    "class myLSTM(nn.Module):\n",
    "    def __init__(self, input_dim, hidden_dim, num_layer, num_class):\n",
    "        super(myLSTM, self).__init__()\n",
    "        self.num_layer = num_layer\n",
    "        self.hidden_dim = hidden_dim\n",
    "        self.lstm = nn.LSTM(input_dim, hidden_dim, num_layer)\n",
    "                            # batch_first=True)\n",
    "        self.classifier = nn.Linear(hidden_dim, num_class)\n",
    "    def forward(self, x):\n",
    "        # h0 = Variable(torch.zeros(self.n_layer, x.size(1),\n",
    "                                #   self.hidden_dim)).cuda()\n",
    "        # c0 = Variable(torch.zeros(self.n_layer, x.size(1),\n",
    "                                #   self.hidden_dim)).cuda()\n",
    "        out, _ = self.lstm(x)\n",
    "        out = out[-1, :, :]\n",
    "        out = self.classifier(out)\n",
    "        return out\n",
    "    def check_accuracy(self, dataloader):\n",
    "        total_correct = 0\n",
    "        total_label = 0\n",
    "        for i_batch, sample_batched in enumerate(dataloader):\n",
    "            X_sample, y_sample = sample_batched\n",
    "            # Flip axis first\n",
    "            X_sample = torch.Tensor(np.moveaxis(X_sample.numpy(), -1, 0))\n",
    "            X_sample, y_sample = Variable(X_sample), Variable(y_sample)\n",
    "            out = self.forward(X_sample)\n",
    "            _, pred = torch.max(out, 1)\n",
    "            num_correct = np.sum(pred.data.numpy() == y_sample.data.numpy())\n",
    "            total_correct += num_correct\n",
    "            total_label += len(pred)\n",
    "        return  total_correct / total_label"
   ]
  },
  {
   "cell_type": "markdown",
   "metadata": {},
   "source": [
    "# Test the Model"
   ]
  },
  {
   "cell_type": "code",
   "execution_count": 8,
   "metadata": {},
   "outputs": [
    {
     "name": "stdout",
     "output_type": "stream",
     "text": [
      "(0 batch) loss: 1.391356\n",
      "(1 batch) loss: 1.382428\n",
      "(2 batch) loss: 1.392851\n",
      "(3 batch) loss: 1.379888\n",
      "(Epoch 1 / 10) train_acc: 0.388298; val_acc: 0.260000\n",
      "(0 batch) loss: 1.354640\n",
      "(1 batch) loss: 1.362906\n",
      "(2 batch) loss: 1.351139\n",
      "(3 batch) loss: 1.348818\n",
      "(Epoch 2 / 10) train_acc: 0.377660; val_acc: 0.300000\n",
      "(0 batch) loss: 1.298985\n",
      "(1 batch) loss: 1.366675\n",
      "(2 batch) loss: 1.345711\n",
      "(3 batch) loss: 1.331232\n",
      "(Epoch 3 / 10) train_acc: 0.393617; val_acc: 0.280000\n",
      "(0 batch) loss: 1.340405\n",
      "(1 batch) loss: 1.322417\n",
      "(2 batch) loss: 1.334544\n",
      "(3 batch) loss: 1.240284\n",
      "(Epoch 4 / 10) train_acc: 0.436170; val_acc: 0.300000\n",
      "(0 batch) loss: 1.303195\n",
      "(1 batch) loss: 1.301097\n",
      "(2 batch) loss: 1.240848\n",
      "(3 batch) loss: 1.323014\n",
      "(Epoch 5 / 10) train_acc: 0.500000; val_acc: 0.220000\n",
      "(0 batch) loss: 1.265337\n",
      "(1 batch) loss: 1.228786\n",
      "(2 batch) loss: 1.299441\n",
      "(3 batch) loss: 1.235741\n",
      "(Epoch 6 / 10) train_acc: 0.553191; val_acc: 0.140000\n",
      "(0 batch) loss: 1.191869\n",
      "(1 batch) loss: 1.255946\n",
      "(2 batch) loss: 1.222051\n",
      "(3 batch) loss: 1.229845\n",
      "(Epoch 7 / 10) train_acc: 0.579787; val_acc: 0.120000\n",
      "(0 batch) loss: 1.157172\n",
      "(1 batch) loss: 1.225722\n",
      "(2 batch) loss: 1.153494\n",
      "(3 batch) loss: 1.142443\n",
      "(Epoch 8 / 10) train_acc: 0.617021; val_acc: 0.120000\n",
      "(0 batch) loss: 1.101378\n",
      "(1 batch) loss: 1.195580\n",
      "(2 batch) loss: 1.062509\n",
      "(3 batch) loss: 1.066472\n",
      "(Epoch 9 / 10) train_acc: 0.670213; val_acc: 0.180000\n",
      "(0 batch) loss: 1.088431\n",
      "(1 batch) loss: 0.967857\n",
      "(2 batch) loss: 1.034315\n",
      "(3 batch) loss: 1.036314\n",
      "(Epoch 10 / 10) train_acc: 0.675532; val_acc: 0.200000\n"
     ]
    }
   ],
   "source": [
    "dtype = torch.FloatTensor\n",
    "hidden_dim = 100\n",
    "num_classes = 4\n",
    "num_epoches = 10\n",
    "model = myLSTM(E, hidden_dim, 2, num_classes)\n",
    "loss_fn = nn.CrossEntropyLoss().type(dtype)\n",
    "optimizer = optim.Adam(model.parameters(), lr=1e-3)\n",
    "for epoch in range(num_epoches):\n",
    "    for i, data in enumerate(dataloaders['train'], 0):\n",
    "        X_train, y_train = data\n",
    "        # Wrap them in Variable\n",
    "        # Flip axis first\n",
    "        X_train = torch.Tensor(np.moveaxis(X_train.numpy(), -1, 0))\n",
    "        X_train, y_train = Variable(X_train), Variable(y_train)\n",
    "        # forward + backward + optimize\n",
    "        out = model(X_train)\n",
    "        # print (out)\n",
    "        loss = loss_fn(out, y_train.long())\n",
    "        print('(%d batch) loss: %f' % (i, loss))\n",
    "        # zero the parameter gradients\n",
    "        optimizer.zero_grad()\n",
    "        loss.backward()\n",
    "        optimizer.step()\n",
    "    train_acc = model.check_accuracy(dataloaders['train'])\n",
    "    val_acc = model.check_accuracy(dataloaders['val'])\n",
    "    print('(Epoch %d / %d) train_acc: %f; val_acc: %f' % (epoch+1, num_epoches, train_acc, val_acc))\n",
    "        "
   ]
  },
  {
   "cell_type": "code",
   "execution_count": null,
   "metadata": {},
   "outputs": [],
   "source": []
  }
 ],
 "metadata": {
  "celltoolbar": "Raw Cell Format",
  "kernelspec": {
   "display_name": "Python 3",
   "language": "python",
   "name": "python3"
  },
  "language_info": {
   "codemirror_mode": {
    "name": "ipython",
    "version": 3
   },
   "file_extension": ".py",
   "mimetype": "text/x-python",
   "name": "python",
   "nbconvert_exporter": "python",
   "pygments_lexer": "ipython3",
   "version": "3.6.4"
  }
 },
 "nbformat": 4,
 "nbformat_minor": 2
}
