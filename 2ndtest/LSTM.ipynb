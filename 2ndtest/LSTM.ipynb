{
 "cells": [
  {
   "cell_type": "code",
   "execution_count": 22,
   "metadata": {},
   "outputs": [],
   "source": [
    "import numpy as np\n",
    "import h5py\n",
    "import torch\n",
    "import torch.utils.data as data_utils\n",
    "from torch.utils.data.dataset import random_split\n",
    "import numpy as np\n",
    "from torch.autograd import Variable\n",
    "import torch.nn as nn\n",
    "import torch.optim as optim"
   ]
  },
  {
   "cell_type": "markdown",
   "metadata": {
    "raw_mimetype": "text/markdown"
   },
   "source": [
    "# Helper Clases / Functions"
   ]
  },
  {
   "cell_type": "code",
   "execution_count": 71,
   "metadata": {},
   "outputs": [],
   "source": [
    "def checkAccuracy(model, dataloader):\n",
    "    y_pred_tot = []\n",
    "    y_sample_tot = []\n",
    "    for i_batch, sample_batched in enumerate(dataloader):\n",
    "        X_sample, y_sample = sample_batched\n",
    "        # Flip axis first\n",
    "        X_sample = torch.Tensor(np.moveaxis(X_sample.numpy(), -1, 0))\n",
    "        X_sample, y_sample = Variable(X_sample), Variable(y_sample)\n",
    "        scores, _ = model(X_sample)\n",
    "        #loss = loss_fn(scores, y_sample.long())\n",
    "        #print('val loss: %f' % loss)\n",
    "        _, y_pred = torch.max(scores, 0)\n",
    "        _, y_pred = torch.max(y_pred, 1)\n",
    "        y_pred_tot.append(y_pred.data.numpy())\n",
    "        y_sample_tot.append(y_sample.data.numpy())\n",
    "    acc = np.mean(np.concatenate(y_pred_tot) == np.concatenate(y_sample_tot))\n",
    "    return acc\n",
    "class Flatten(nn.Module):\n",
    "    def forward(self, x):\n",
    "        N, E, T = x.size() \n",
    "        return x.view(N, -1)"
   ]
  },
  {
   "cell_type": "markdown",
   "metadata": {},
   "source": [
    "# Load Data"
   ]
  },
  {
   "cell_type": "code",
   "execution_count": 37,
   "metadata": {},
   "outputs": [
    {
     "name": "stdout",
     "output_type": "stream",
     "text": [
      "<HDF5 file \"A01T_slice.mat\" (mode r)>\n",
      "(288, 23, 1000)\n"
     ]
    }
   ],
   "source": [
    "A01T = h5py.File('./../project_datasets/A01T_slice.mat', 'r')\n",
    "print (A01T)\n",
    "X = np.copy(A01T['image'])\n",
    "y = np.copy(A01T['type'])\n",
    "X = X[:, 0:23, :] # only goes to 23 since you dont use last 3 channels\n",
    "# X = np.moveaxis(X, -1, 0)\n",
    "y = y[0,0:X.shape[0]:1]\n",
    "#subtract 769 so classes start at 0\n",
    "y = y - 769\n",
    "N, E, T = np.shape(X)\n",
    "print (np.shape(X))"
   ]
  },
  {
   "cell_type": "markdown",
   "metadata": {},
   "source": [
    "# Make DataLoaders"
   ]
  },
  {
   "cell_type": "code",
   "execution_count": 38,
   "metadata": {},
   "outputs": [],
   "source": [
    "bs = 50\n",
    "data = data_utils.TensorDataset(torch.Tensor(X), torch.Tensor(y))\n",
    "dset = {}\n",
    "dset['train'], dset['val'], dset['test'] = random_split(data, [N-100, 50, 50])\n",
    "dataloaders = {x: data_utils.DataLoader(dset[x], batch_size=bs, shuffle=True, num_workers=4) for x in ['train', 'val', 'test']}"
   ]
  },
  {
   "cell_type": "markdown",
   "metadata": {},
   "source": [
    "# Define Model"
   ]
  },
  {
   "cell_type": "code",
   "execution_count": 30,
   "metadata": {},
   "outputs": [],
   "source": [
    "# Working Model\n",
    "dtype = torch.FloatTensor\n",
    "model = nn.Sequential(\n",
    "    Flatten(),\n",
    "    nn.Linear(E*T, 1024),\n",
    "    nn.ReLU(inplace=True),\n",
    "    nn.Linear(1024, 4),\n",
    ")\n",
    "model.type(dtype)\n",
    "loss_fn = nn.CrossEntropyLoss().type(dtype)\n",
    "optimizer = optim.Adam(model.parameters(), lr=1e-3)"
   ]
  },
  {
   "cell_type": "code",
   "execution_count": 39,
   "metadata": {},
   "outputs": [],
   "source": [
    "dtype = torch.FloatTensor\n",
    "channels = E;\n",
    "classes = 4;\n",
    "model = nn.Sequential(\n",
    "    nn.LSTM(channels, classes, 2)\n",
    ")\n",
    "model.type(dtype)\n",
    "loss_fn = nn.CrossEntropyLoss().type(dtype)\n",
    "optimizer = optim.Adam(model.parameters(), lr=1e-3)"
   ]
  },
  {
   "cell_type": "markdown",
   "metadata": {},
   "source": [
    "# Training"
   ]
  },
  {
   "cell_type": "code",
   "execution_count": 72,
   "metadata": {
    "scrolled": true
   },
   "outputs": [
    {
     "name": "stdout",
     "output_type": "stream",
     "text": [
      "(0 batch) loss: 301.991699\n",
      "(1 batch) loss: 260.270081\n",
      "(2 batch) loss: 286.477417\n",
      "(3 batch) loss: 298.451324\n",
      "(Epoch 1 / 10) train_acc: 0.234043; val_acc: 0.200000\n",
      "(0 batch) loss: 294.685944\n",
      "(1 batch) loss: 335.728973\n",
      "(2 batch) loss: 259.954468\n",
      "(3 batch) loss: 243.674728\n",
      "(Epoch 2 / 10) train_acc: 0.234043; val_acc: 0.200000\n",
      "(0 batch) loss: 265.360107\n",
      "(1 batch) loss: 278.817749\n",
      "(2 batch) loss: 290.515015\n",
      "(3 batch) loss: 316.933350\n",
      "(Epoch 3 / 10) train_acc: 0.234043; val_acc: 0.200000\n",
      "(0 batch) loss: 268.079285\n",
      "(1 batch) loss: 280.342224\n",
      "(2 batch) loss: 281.018982\n",
      "(3 batch) loss: 323.844391\n",
      "(Epoch 4 / 10) train_acc: 0.234043; val_acc: 0.200000\n",
      "(0 batch) loss: 238.399963\n",
      "(1 batch) loss: 354.941132\n",
      "(2 batch) loss: 225.419556\n",
      "(3 batch) loss: 337.896729\n",
      "(Epoch 5 / 10) train_acc: 0.234043; val_acc: 0.200000\n",
      "(0 batch) loss: 241.829117\n",
      "(1 batch) loss: 374.296509\n",
      "(2 batch) loss: 238.875412\n",
      "(3 batch) loss: 290.212097\n",
      "(Epoch 6 / 10) train_acc: 0.234043; val_acc: 0.200000\n",
      "(0 batch) loss: 312.120789\n",
      "(1 batch) loss: 334.879700\n",
      "(2 batch) loss: 278.371643\n",
      "(3 batch) loss: 197.618484\n",
      "(Epoch 7 / 10) train_acc: 0.234043; val_acc: 0.200000\n",
      "(0 batch) loss: 257.860992\n",
      "(1 batch) loss: 271.256317\n",
      "(2 batch) loss: 283.022522\n",
      "(3 batch) loss: 346.608337\n",
      "(Epoch 8 / 10) train_acc: 0.234043; val_acc: 0.200000\n",
      "(0 batch) loss: 227.425507\n",
      "(1 batch) loss: 346.499878\n",
      "(2 batch) loss: 320.110168\n",
      "(3 batch) loss: 238.850891\n",
      "(Epoch 9 / 10) train_acc: 0.234043; val_acc: 0.200000\n",
      "(0 batch) loss: 261.951263\n",
      "(1 batch) loss: 250.789154\n",
      "(2 batch) loss: 303.116211\n",
      "(3 batch) loss: 341.717896\n",
      "(Epoch 10 / 10) train_acc: 0.234043; val_acc: 0.200000\n"
     ]
    }
   ],
   "source": [
    "num_epochs = 10\n",
    "for epoch in range(num_epochs):\n",
    "    for i, data in enumerate(dataloaders['train'], 0):\n",
    "        X_train, y_train = data\n",
    "        # Wrap them in Variable\n",
    "        # Flip axis first\n",
    "        X_train = torch.Tensor(np.moveaxis(X_train.numpy(), -1, 0))\n",
    "        X_train, y_train = Variable(X_train), Variable(y_train)\n",
    "        # zero the parameter gradients\n",
    "        optimizer.zero_grad()\n",
    "        # forward + backward + optimize\n",
    "        outputs, _ = model(X_train)\n",
    "        _, y_pred = torch.max(outputs, 0)\n",
    "        y_pred = Variable(y_pred.data, requires_grad=True)\n",
    "        loss = loss_fn(y_pred.type(dtype), y_train.long())        \n",
    "        print('(%d batch) loss: %f' % (i, loss))\n",
    "        loss.backward()\n",
    "        optimizer.step()\n",
    "    # print accuracy\n",
    "    train_acc = checkAccuracy(model, dataloaders['train'])\n",
    "    val_acc = checkAccuracy(model, dataloaders['val'])\n",
    "    print('(Epoch %d / %d) train_acc: %f; val_acc: %f' % (epoch+1, num_epochs, train_acc, val_acc))"
   ]
  },
  {
   "cell_type": "code",
   "execution_count": 9,
   "metadata": {},
   "outputs": [
    {
     "ename": "NameError",
     "evalue": "name 'last_output' is not defined",
     "output_type": "error",
     "traceback": [
      "\u001b[0;31m---------------------------------------------------------------------------\u001b[0m",
      "\u001b[0;31mNameError\u001b[0m                                 Traceback (most recent call last)",
      "\u001b[0;32m<ipython-input-9-ded6332cb9c3>\u001b[0m in \u001b[0;36m<module>\u001b[0;34m()\u001b[0m\n\u001b[1;32m      1\u001b[0m \u001b[0my_pred\u001b[0m \u001b[0;34m=\u001b[0m \u001b[0mmodel\u001b[0m\u001b[0;34m(\u001b[0m\u001b[0mX_train\u001b[0m\u001b[0;34m)\u001b[0m\u001b[0;34m\u001b[0m\u001b[0m\n\u001b[0;32m----> 2\u001b[0;31m \u001b[0mloss\u001b[0m \u001b[0;34m=\u001b[0m \u001b[0mloss_fn\u001b[0m\u001b[0;34m(\u001b[0m\u001b[0mlast_output\u001b[0m\u001b[0;34m,\u001b[0m \u001b[0my_train\u001b[0m\u001b[0;34m)\u001b[0m\u001b[0;34m\u001b[0m\u001b[0m\n\u001b[0m\u001b[1;32m      3\u001b[0m \u001b[0mprint\u001b[0m \u001b[0;34m(\u001b[0m\u001b[0mloss\u001b[0m\u001b[0;34m)\u001b[0m\u001b[0;34m\u001b[0m\u001b[0m\n\u001b[1;32m      4\u001b[0m \u001b[0mmodel\u001b[0m\u001b[0;34m\u001b[0m\u001b[0m\n",
      "\u001b[0;31mNameError\u001b[0m: name 'last_output' is not defined"
     ]
    }
   ],
   "source": [
    "y_pred = model(X_train)\n",
    "loss = loss_fn(last_output, y_train)\n",
    "print (loss)\n",
    "model"
   ]
  },
  {
   "cell_type": "code",
   "execution_count": null,
   "metadata": {},
   "outputs": [],
   "source": []
  }
 ],
 "metadata": {
  "celltoolbar": "Raw Cell Format",
  "kernelspec": {
   "display_name": "Python 3",
   "language": "python",
   "name": "python3"
  },
  "language_info": {
   "codemirror_mode": {
    "name": "ipython",
    "version": 3
   },
   "file_extension": ".py",
   "mimetype": "text/x-python",
   "name": "python",
   "nbconvert_exporter": "python",
   "pygments_lexer": "ipython3",
   "version": "3.6.4"
  }
 },
 "nbformat": 4,
 "nbformat_minor": 2
}
