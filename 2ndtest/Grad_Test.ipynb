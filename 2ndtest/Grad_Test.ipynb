{
 "cells": [
  {
   "cell_type": "code",
   "execution_count": 132,
   "metadata": {},
   "outputs": [],
   "source": [
    "import numpy as np\n",
    "import h5py\n",
    "import torch\n",
    "import torch.utils.data as data_utils\n",
    "from torch.utils.data.dataset import random_split\n",
    "import numpy as np\n",
    "from torch.autograd import Variable\n",
    "import torch.nn as nn\n",
    "import torch.optim as optim"
   ]
  },
  {
   "cell_type": "markdown",
   "metadata": {
    "raw_mimetype": "text/markdown"
   },
   "source": [
    "# Helper Clases / Functions"
   ]
  },
  {
   "cell_type": "code",
   "execution_count": 133,
   "metadata": {},
   "outputs": [],
   "source": [
    "def checkAccuracy(model, dataloader):\n",
    "    y_pred_tot = []\n",
    "    y_sample_tot = []\n",
    "    for i_batch, sample_batched in enumerate(dataloader):\n",
    "        X_sample, y_sample = sample_batched\n",
    "        X_sample, y_sample = Variable(X_sample), Variable(y_sample)\n",
    "        scores = model(X_sample)\n",
    "        #loss = loss_fn(scores, y_sample.long())\n",
    "        #print('val loss: %f' % loss)\n",
    "        _, y_pred = torch.max(scores, 1)\n",
    "        y_pred_tot.append(y_pred.data.numpy())\n",
    "        y_sample_tot.append(y_sample.data.numpy())\n",
    "    acc = np.mean(np.concatenate(y_pred_tot) == np.concatenate(y_sample_tot))\n",
    "    return acc\n",
    "class Flatten(nn.Module):\n",
    "    def forward(self, x):\n",
    "        N, E, T = x.size() \n",
    "        return x.view(N, -1)"
   ]
  },
  {
   "cell_type": "markdown",
   "metadata": {},
   "source": [
    "# Load Data"
   ]
  },
  {
   "cell_type": "code",
   "execution_count": 134,
   "metadata": {},
   "outputs": [
    {
     "name": "stdout",
     "output_type": "stream",
     "text": [
      "<HDF5 file \"A01T_slice.mat\" (mode r)>\n",
      "(288, 23, 1000)\n"
     ]
    }
   ],
   "source": [
    "A01T = h5py.File('./../project_datasets/A01T_slice.mat', 'r')\n",
    "print (A01T)\n",
    "X = np.copy(A01T['image'])\n",
    "y = np.copy(A01T['type'])\n",
    "X = X[:, 0:23, :] # only goes to 23 since you dont use last 3 channels\n",
    "# X = np.moveaxis(X, -1, 0)\n",
    "y = y[0,0:X.shape[0]:1]\n",
    "#y = np.asarray(y, dtype=np.int32)\n",
    "#subtract 769 so classes start at 0\n",
    "y = y - 769\n",
    "N, E, T = np.shape(X)\n",
    "print (np.shape(X))"
   ]
  },
  {
   "cell_type": "markdown",
   "metadata": {},
   "source": [
    "# Make DataLoaders"
   ]
  },
  {
   "cell_type": "code",
   "execution_count": 135,
   "metadata": {},
   "outputs": [],
   "source": [
    "bs = 50\n",
    "data = data_utils.TensorDataset(torch.Tensor(X), torch.Tensor(y))\n",
    "dset = {}\n",
    "dset['train'], dset['val'], dset['test'] = random_split(data, [N-100, 50, 50])\n",
    "dataloaders = {x: data_utils.DataLoader(dset[x], batch_size=bs, shuffle=True, num_workers=1) for x in ['train', 'val', 'test']}"
   ]
  },
  {
   "cell_type": "markdown",
   "metadata": {},
   "source": [
    "# Define Model"
   ]
  },
  {
   "cell_type": "code",
   "execution_count": 136,
   "metadata": {},
   "outputs": [],
   "source": [
    "dtype = torch.FloatTensor\n",
    "model = nn.Sequential(\n",
    "    Flatten(),\n",
    "    nn.Linear(E*T, 1024),\n",
    "    nn.ReLU(inplace=True),\n",
    "    nn.Linear(1024, 4),\n",
    ")\n",
    "model.type(dtype)\n",
    "loss_fn = nn.CrossEntropyLoss().type(dtype)\n",
    "optimizer = optim.Adam(model.parameters(), lr=1e-3)"
   ]
  },
  {
   "cell_type": "markdown",
   "metadata": {},
   "source": [
    "# Training"
   ]
  },
  {
   "cell_type": "code",
   "execution_count": 137,
   "metadata": {
    "scrolled": true
   },
   "outputs": [
    {
     "name": "stdout",
     "output_type": "stream",
     "text": [
      "(0 batch) loss: 2.427359\n",
      "(1 batch) loss: 81.606323\n",
      "(2 batch) loss: 62.795219\n",
      "(3 batch) loss: 88.862206\n",
      "(Epoch 1 / 10) train_acc: 0.739362; val_acc: 0.380000\n",
      "(0 batch) loss: 13.012598\n",
      "(1 batch) loss: 14.709541\n",
      "(2 batch) loss: 16.217756\n",
      "(3 batch) loss: 9.572400\n",
      "(Epoch 2 / 10) train_acc: 0.872340; val_acc: 0.300000\n",
      "(0 batch) loss: 3.995305\n",
      "(1 batch) loss: 1.166429\n",
      "(2 batch) loss: 3.172714\n",
      "(3 batch) loss: 1.897641\n",
      "(Epoch 3 / 10) train_acc: 0.968085; val_acc: 0.320000\n",
      "(0 batch) loss: 0.296557\n",
      "(1 batch) loss: 0.064464\n",
      "(2 batch) loss: 0.366129\n",
      "(3 batch) loss: 0.051982\n",
      "(Epoch 4 / 10) train_acc: 0.994681; val_acc: 0.320000\n",
      "(0 batch) loss: 0.004595\n",
      "(1 batch) loss: 0.044119\n",
      "(2 batch) loss: 0.002828\n",
      "(3 batch) loss: 0.121900\n",
      "(Epoch 5 / 10) train_acc: 1.000000; val_acc: 0.340000\n",
      "(0 batch) loss: 0.000714\n",
      "(1 batch) loss: 0.037041\n",
      "(2 batch) loss: 0.008389\n",
      "(3 batch) loss: 0.450589\n",
      "(Epoch 6 / 10) train_acc: 0.994681; val_acc: 0.340000\n",
      "(0 batch) loss: 0.106901\n",
      "(1 batch) loss: 0.001490\n",
      "(2 batch) loss: 0.033167\n",
      "(3 batch) loss: 0.150553\n",
      "(Epoch 7 / 10) train_acc: 0.994681; val_acc: 0.320000\n",
      "(0 batch) loss: 0.000008\n",
      "(1 batch) loss: 0.000520\n",
      "(2 batch) loss: 0.005230\n",
      "(3 batch) loss: 0.000187\n",
      "(Epoch 8 / 10) train_acc: 1.000000; val_acc: 0.280000\n",
      "(0 batch) loss: 0.000147\n",
      "(1 batch) loss: 0.000289\n",
      "(2 batch) loss: 0.000433\n",
      "(3 batch) loss: 0.000001\n",
      "(Epoch 9 / 10) train_acc: 1.000000; val_acc: 0.280000\n",
      "(0 batch) loss: 0.000000\n",
      "(1 batch) loss: 0.000340\n",
      "(2 batch) loss: 0.000630\n",
      "(3 batch) loss: 0.000234\n",
      "(Epoch 10 / 10) train_acc: 1.000000; val_acc: 0.280000\n"
     ]
    }
   ],
   "source": [
    "num_epochs = 10\n",
    "for epoch in range(num_epochs):\n",
    "    for i, data in enumerate(dataloaders['train'], 0):\n",
    "        X_train, y_train = data\n",
    "        # Wrap them in Variable\n",
    "        X_train, y_train = Variable(X_train), Variable(y_train)\n",
    "        X_train.type(dtype)\n",
    "        y_train.type(dtype)\n",
    "        # zero the parameter gradients\n",
    "        optimizer.zero_grad()\n",
    "        # forward + backward + optimize\n",
    "        outputs = model(X_train)\n",
    "        loss = loss_fn(outputs, y_train.long())        \n",
    "        print('(%d batch) loss: %f' % (i, loss))\n",
    "        loss.backward()\n",
    "        optimizer.step()\n",
    "    train_acc = checkAccuracy(model, dataloaders['train'])\n",
    "    val_acc = checkAccuracy(model, dataloaders['val'])\n",
    "    print('(Epoch %d / %d) train_acc: %f; val_acc: %f' % (epoch+1, num_epochs, train_acc, val_acc))"
   ]
  },
  {
   "cell_type": "code",
   "execution_count": null,
   "metadata": {},
   "outputs": [],
   "source": []
  }
 ],
 "metadata": {
  "celltoolbar": "Raw Cell Format",
  "kernelspec": {
   "display_name": "Python 3",
   "language": "python",
   "name": "python3"
  },
  "language_info": {
   "codemirror_mode": {
    "name": "ipython",
    "version": 3
   },
   "file_extension": ".py",
   "mimetype": "text/x-python",
   "name": "python",
   "nbconvert_exporter": "python",
   "pygments_lexer": "ipython3",
   "version": "3.6.4"
  }
 },
 "nbformat": 4,
 "nbformat_minor": 2
}
