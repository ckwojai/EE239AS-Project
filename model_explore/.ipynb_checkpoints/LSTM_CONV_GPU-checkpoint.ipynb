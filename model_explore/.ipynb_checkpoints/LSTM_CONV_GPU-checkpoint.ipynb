{
 "cells": [
  {
   "cell_type": "code",
   "execution_count": 1,
   "metadata": {},
   "outputs": [
    {
     "name": "stderr",
     "output_type": "stream",
     "text": [
      "/home/andrew/Desktop/Project/model_explore/.env/lib/python3.5/site-packages/h5py/__init__.py:36: FutureWarning: Conversion of the second argument of issubdtype from `float` to `np.floating` is deprecated. In future, it will be treated as `np.float64 == np.dtype(float).type`.\n",
      "  from ._conv import register_converters as _register_converters\n"
     ]
    }
   ],
   "source": [
    "import numpy as np\n",
    "import h5py\n",
    "import torch\n",
    "import torch.utils.data as data_utils\n",
    "from torch.utils.data.dataset import random_split\n",
    "import numpy as np\n",
    "from torch.autograd import Variable\n",
    "import torch.nn as nn\n",
    "import torch.optim as optim"
   ]
  },
  {
   "cell_type": "markdown",
   "metadata": {
    "raw_mimetype": "text/markdown"
   },
   "source": [
    "# Helper Clases / Functions"
   ]
  },
  {
   "cell_type": "code",
   "execution_count": 2,
   "metadata": {},
   "outputs": [],
   "source": [
    "def Load_Data(num):\n",
    "    if (num == -1): # All data\n",
    "        X_all = []\n",
    "        y_all = []\n",
    "        for i in range(8):\n",
    "            file_path = './../project_datasets/A0' + str(i+1) + 'T_slice.mat'\n",
    "            data = h5py.File(file_path, 'r')\n",
    "            X = np.copy(data['image'])\n",
    "            y = np.copy(data['type'])\n",
    "            X = X[:, 0:23, :]\n",
    "            X_all.append(X)\n",
    "            y = y[0,0:X.shape[0]:1]\n",
    "            y_all.append(y)\n",
    "        A, N, E, T = np.shape(X_all)\n",
    "        X_all = np.reshape(X_all, (A*N, E, T))\n",
    "        y_all = np.reshape(y_all, (-1))\n",
    "        y_all = y_all - 769\n",
    "        ## Remove NAN\n",
    "        index_Nan = []\n",
    "        for i in range(A*N):\n",
    "            for j in range(E):\n",
    "                if (any(np.isnan(X_all[i,j])) == True):\n",
    "                    index_Nan.append(i)\n",
    "        index_Nan = list(set(index_Nan))\n",
    "        X_all = np.delete(X_all, index_Nan, axis=0)\n",
    "        y_all = np.delete(y_all, index_Nan)\n",
    "        return (X_all, y_all)\n",
    "    else:\n",
    "        file_path = './../project_datasets/A0' + str(num) + 'T_slice.mat'\n",
    "        data = h5py.File(file_path, 'r')\n",
    "        X = np.copy(data['image'])\n",
    "        y = np.copy(data['type'])\n",
    "        X = X[:, 0:23, :]\n",
    "        y = y[0,0:X.shape[0]:1]\n",
    "        y = y - 769\n",
    "         ## Remove NAN\n",
    "        N, E, T = np.shape(X)\n",
    "        index_Nan = []\n",
    "        for i in range(N):\n",
    "            for j in range(E):\n",
    "                if (any(np.isnan(X[i,j])) == True):\n",
    "                    index_Nan.append(i)\n",
    "        index_Nan = list(set(index_Nan))\n",
    "        X = np.delete(X, index_Nan, axis=0)\n",
    "        y = np.delete(y, index_Nan)\n",
    "        return (X, y)"
   ]
  },
  {
   "cell_type": "markdown",
   "metadata": {},
   "source": [
    "# Load Data"
   ]
  },
  {
   "cell_type": "code",
   "execution_count": 3,
   "metadata": {},
   "outputs": [
    {
     "name": "stdout",
     "output_type": "stream",
     "text": [
      "(2280, 23, 1000)\n"
     ]
    }
   ],
   "source": [
    "X, y = Load_Data(-1) # -1 to load all datas\n",
    "N, E, T = np.shape(X)\n",
    "print (np.shape(X))"
   ]
  },
  {
   "cell_type": "markdown",
   "metadata": {},
   "source": [
    "# Make DataLoaders"
   ]
  },
  {
   "cell_type": "code",
   "execution_count": 12,
   "metadata": {},
   "outputs": [],
   "source": [
    "bs_train = 200\n",
    "bs_val = 100\n",
    "bs_test = 100\n",
    "data = data_utils.TensorDataset(torch.Tensor(X), torch.Tensor(y))\n",
    "dset = {}\n",
    "dataloaders = {}\n",
    "dset['train'], dset['val'], dset['test'] = random_split(data, [N-bs_val-bs_test, bs_val, bs_test])\n",
    "dataloaders['train'] = data_utils.DataLoader(dset['train'], batch_size=bs_train, shuffle=True, num_workers=1)\n",
    "dataloaders['val'] = data_utils.DataLoader(dset['val'], batch_size=bs_val, shuffle=True, num_workers=1)\n",
    "dataloaders['test'] = data_utils.DataLoader(dset['test'], batch_size=bs_test, shuffle=True, num_workers=1)"
   ]
  },
  {
   "cell_type": "markdown",
   "metadata": {},
   "source": [
    "# Define Model"
   ]
  },
  {
   "cell_type": "code",
   "execution_count": 25,
   "metadata": {},
   "outputs": [],
   "source": [
    "class myLSTM(nn.Module):\n",
    "    def __init__(self, input_dim, hidden_dim, num_layer, num_class):\n",
    "        super(myLSTM, self).__init__()\n",
    "        self.num_layer = num_layer\n",
    "        self.hidden_dim = hidden_dim\n",
    "        self.conv_temp = nn.Conv2d(1,40,tuple([1,25]))\n",
    "        self.conv_elec = nn.Conv3d(1,23,tuple([40, 23, 1]))\n",
    "        self.lstm = nn.LSTM(input_dim, hidden_dim, num_layer, dropout=0.5)\n",
    "        self.classifier = nn.Linear(hidden_dim, num_class)\n",
    "    def forward(self, x):\n",
    "        x.unsqueeze_(1)\n",
    "        out_conv_temp = self.conv_temp(x)\n",
    "        out_conv_temp = out_conv_temp.unsqueeze_(1)\n",
    "        out_conv_elec = self.conv_elec(out_conv_temp)\n",
    "        out_conv_elec_sque= torch.squeeze(out_conv_elec)\n",
    "        out_swap = out_conv_elec_sque.permute(2,0,1)\n",
    "        out_lstm, _ = self.lstm(out_swap)\n",
    "        out_lstm = out_lstm[-1, :, :]\n",
    "        out = self.classifier(out_lstm)\n",
    "        return out\n",
    "    def check_accuracy(self, dataloader):\n",
    "        total_correct = 0\n",
    "        total_label = 0\n",
    "        for i_batch, sample_batched in enumerate(dataloader):\n",
    "            X_sample, y_sample = sample_batched\n",
    "            X_sample, y_sample = Variable(X_sample), Variable(y_sample)\n",
    "            out = self.forward(X_sample.cuda())\n",
    "            _, pred = torch.max(out, 1)\n",
    "            num_correct = np.sum(pred.data.cpu().numpy() == y_sample.data.cpu().numpy())\n",
    "            total_correct += num_correct\n",
    "            total_label += len(pred)\n",
    "        return  total_correct / total_label"
   ]
  },
  {
   "cell_type": "code",
   "execution_count": 26,
   "metadata": {},
   "outputs": [],
   "source": [
    "dtype = torch.cuda.FloatTensor\n",
    "hidden_dim = 20\n",
    "num_classes = 4\n",
    "num_epoches = 10\n",
    "model = myLSTM(E, hidden_dim, 1, num_classes)\n",
    "model.type(dtype)\n",
    "loss_fn = nn.CrossEntropyLoss().type(dtype)\n",
    "optimizer = optim.Adam(model.parameters(), lr=1e-3)"
   ]
  },
  {
   "cell_type": "markdown",
   "metadata": {},
   "source": [
    "# Conv Training"
   ]
  },
  {
   "cell_type": "code",
   "execution_count": 27,
   "metadata": {},
   "outputs": [],
   "source": [
    "best_acc = 0.35"
   ]
  },
  {
   "cell_type": "code",
   "execution_count": 28,
   "metadata": {},
   "outputs": [
    {
     "name": "stdout",
     "output_type": "stream",
     "text": [
      "(0 batch) loss: 1.390257\n",
      "(1 batch) loss: 1.396353\n",
      "(2 batch) loss: 1.374499\n",
      "(3 batch) loss: 1.410038\n",
      "(4 batch) loss: 1.395243\n",
      "(5 batch) loss: 1.420795\n",
      "(6 batch) loss: 1.406236\n",
      "(7 batch) loss: 1.383952\n",
      "(8 batch) loss: 1.409951\n",
      "(9 batch) loss: 1.396588\n",
      "(10 batch) loss: 1.382122\n",
      "(Epoch 1 / 10) train_acc: 0.307692; val_acc: 0.270000\n",
      "(0 batch) loss: 1.360241\n",
      "(1 batch) loss: 1.390585\n",
      "(2 batch) loss: 1.364309\n",
      "(3 batch) loss: 1.368755\n",
      "(4 batch) loss: 1.379438\n",
      "(5 batch) loss: 1.379014\n",
      "(6 batch) loss: 1.362466\n",
      "(7 batch) loss: 1.379786\n",
      "(8 batch) loss: 1.377990\n",
      "(9 batch) loss: 1.366479\n",
      "(10 batch) loss: 1.380052\n",
      "(Epoch 2 / 10) train_acc: 0.323077; val_acc: 0.230000\n",
      "(0 batch) loss: 1.368514\n",
      "(1 batch) loss: 1.361847\n",
      "(2 batch) loss: 1.393340\n",
      "(3 batch) loss: 1.364944\n",
      "(4 batch) loss: 1.353942\n",
      "(5 batch) loss: 1.350770\n",
      "(6 batch) loss: 1.363920\n",
      "(7 batch) loss: 1.346822\n",
      "(8 batch) loss: 1.383533\n",
      "(9 batch) loss: 1.354895\n",
      "(10 batch) loss: 1.355712\n",
      "(Epoch 3 / 10) train_acc: 0.338942; val_acc: 0.260000\n",
      "(0 batch) loss: 1.345217\n",
      "(1 batch) loss: 1.342242\n",
      "(2 batch) loss: 1.324972\n",
      "(3 batch) loss: 1.345817\n",
      "(4 batch) loss: 1.364160\n",
      "(5 batch) loss: 1.325244\n",
      "(6 batch) loss: 1.354346\n",
      "(7 batch) loss: 1.350757\n",
      "(8 batch) loss: 1.360817\n",
      "(9 batch) loss: 1.363328\n",
      "(10 batch) loss: 1.373593\n",
      "(Epoch 4 / 10) train_acc: 0.371635; val_acc: 0.230000\n",
      "(0 batch) loss: 1.327586\n",
      "(1 batch) loss: 1.329507\n",
      "(2 batch) loss: 1.327121\n",
      "(3 batch) loss: 1.352752\n",
      "(4 batch) loss: 1.341441\n",
      "(5 batch) loss: 1.325289\n",
      "(6 batch) loss: 1.339147\n",
      "(7 batch) loss: 1.339402\n",
      "(8 batch) loss: 1.331825\n",
      "(9 batch) loss: 1.322631\n",
      "(10 batch) loss: 1.342760\n",
      "(Epoch 5 / 10) train_acc: 0.389904; val_acc: 0.220000\n",
      "(0 batch) loss: 1.331669\n",
      "(1 batch) loss: 1.320277\n",
      "(2 batch) loss: 1.321671\n",
      "(3 batch) loss: 1.345058\n",
      "(4 batch) loss: 1.323712\n",
      "(5 batch) loss: 1.318939\n",
      "(6 batch) loss: 1.342456\n",
      "(7 batch) loss: 1.310731\n",
      "(8 batch) loss: 1.339196\n",
      "(9 batch) loss: 1.318266\n",
      "(10 batch) loss: 1.330885\n",
      "(Epoch 6 / 10) train_acc: 0.409135; val_acc: 0.270000\n",
      "(0 batch) loss: 1.325314\n",
      "(1 batch) loss: 1.315964\n",
      "(2 batch) loss: 1.328624\n",
      "(3 batch) loss: 1.301639\n",
      "(4 batch) loss: 1.320388\n",
      "(5 batch) loss: 1.296455\n",
      "(6 batch) loss: 1.306829\n",
      "(7 batch) loss: 1.323951\n",
      "(8 batch) loss: 1.314459\n",
      "(9 batch) loss: 1.315171\n",
      "(10 batch) loss: 1.314389\n",
      "(Epoch 7 / 10) train_acc: 0.422115; val_acc: 0.230000\n",
      "(0 batch) loss: 1.309548\n",
      "(1 batch) loss: 1.292405\n",
      "(2 batch) loss: 1.324465\n",
      "(3 batch) loss: 1.285098\n",
      "(4 batch) loss: 1.318800\n",
      "(5 batch) loss: 1.313133\n",
      "(6 batch) loss: 1.304896\n",
      "(7 batch) loss: 1.297057\n",
      "(8 batch) loss: 1.314713\n",
      "(9 batch) loss: 1.308589\n",
      "(10 batch) loss: 1.304416\n",
      "(Epoch 8 / 10) train_acc: 0.436058; val_acc: 0.220000\n",
      "(0 batch) loss: 1.326057\n",
      "(1 batch) loss: 1.294747\n",
      "(2 batch) loss: 1.274570\n",
      "(3 batch) loss: 1.296108\n",
      "(4 batch) loss: 1.299901\n",
      "(5 batch) loss: 1.278070\n",
      "(6 batch) loss: 1.273448\n",
      "(7 batch) loss: 1.300695\n",
      "(8 batch) loss: 1.270457\n",
      "(9 batch) loss: 1.320325\n",
      "(10 batch) loss: 1.254668\n",
      "(Epoch 9 / 10) train_acc: 0.453846; val_acc: 0.240000\n",
      "(0 batch) loss: 1.274210\n",
      "(1 batch) loss: 1.279935\n",
      "(2 batch) loss: 1.291640\n",
      "(3 batch) loss: 1.280881\n",
      "(4 batch) loss: 1.319094\n",
      "(5 batch) loss: 1.263389\n",
      "(6 batch) loss: 1.262807\n",
      "(7 batch) loss: 1.284388\n",
      "(8 batch) loss: 1.302597\n",
      "(9 batch) loss: 1.288547\n",
      "(10 batch) loss: 1.259875\n",
      "(Epoch 10 / 10) train_acc: 0.465865; val_acc: 0.250000\n"
     ]
    }
   ],
   "source": [
    "for epoch in range(num_epoches):\n",
    "    for i, data in enumerate(dataloaders['train'], 0):\n",
    "        X_train, y_train = data\n",
    "        # Wrap them in Variable\n",
    "        X_train, y_train = Variable(X_train), Variable(y_train)\n",
    "        # forward + backward + optimize\n",
    "        out = model(X_train.cuda())\n",
    "        # print (out)\n",
    "        loss = loss_fn(out, y_train.long().cuda())\n",
    "        print('(%d batch) loss: %f' % (i, loss))\n",
    "        # zero the parameter gradients\n",
    "        optimizer.zero_grad()\n",
    "        loss.backward()\n",
    "        optimizer.step()\n",
    "    train_acc = model.check_accuracy(dataloaders['train'])\n",
    "    val_acc = model.check_accuracy(dataloaders['val'])\n",
    "    print('(Epoch %d / %d) train_acc: %f; val_acc: %f' % (epoch+1, num_epoches, train_acc, val_acc))\n",
    "    if (val_acc > best_acc):\n",
    "        best_acc = val_acc\n",
    "        torch.save(model, 'best_LSTM_CONV.pt')"
   ]
  },
  {
   "cell_type": "markdown",
   "metadata": {},
   "source": [
    "# Best Model Test"
   ]
  },
  {
   "cell_type": "code",
   "execution_count": 10,
   "metadata": {},
   "outputs": [
    {
     "name": "stdout",
     "output_type": "stream",
     "text": [
      "0.35\n"
     ]
    },
    {
     "name": "stderr",
     "output_type": "stream",
     "text": [
      "/home/andrew/Desktop/Project/model_explore/.env/lib/python3.5/site-packages/ipykernel_launcher.py:17: UserWarning: RNN module weights are not part of single contiguous chunk of memory. This means they need to be compacted at every call, possibly greatly increasing memory usage. To compact weights again call flatten_parameters().\n"
     ]
    }
   ],
   "source": [
    "best_model = torch.load('best_LSTM_CONV.pt')\n",
    "print (best_model.check_accuracy(dataloaders['val']))"
   ]
  },
  {
   "cell_type": "code",
   "execution_count": null,
   "metadata": {},
   "outputs": [],
   "source": []
  }
 ],
 "metadata": {
  "celltoolbar": "Raw Cell Format",
  "kernelspec": {
   "display_name": "Python 3",
   "language": "python",
   "name": "python3"
  },
  "language_info": {
   "codemirror_mode": {
    "name": "ipython",
    "version": 3
   },
   "file_extension": ".py",
   "mimetype": "text/x-python",
   "name": "python",
   "nbconvert_exporter": "python",
   "pygments_lexer": "ipython3",
   "version": "3.5.2"
  }
 },
 "nbformat": 4,
 "nbformat_minor": 2
}
