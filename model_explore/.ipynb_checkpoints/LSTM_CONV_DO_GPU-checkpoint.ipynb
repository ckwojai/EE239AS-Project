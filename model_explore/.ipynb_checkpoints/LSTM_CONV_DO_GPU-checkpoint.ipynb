{
 "cells": [
  {
   "cell_type": "code",
   "execution_count": 1,
   "metadata": {},
   "outputs": [
    {
     "name": "stderr",
     "output_type": "stream",
     "text": [
      "/home/andrew/Desktop/Project/model_explore/.env/lib/python3.5/site-packages/h5py/__init__.py:36: FutureWarning: Conversion of the second argument of issubdtype from `float` to `np.floating` is deprecated. In future, it will be treated as `np.float64 == np.dtype(float).type`.\n",
      "  from ._conv import register_converters as _register_converters\n"
     ]
    }
   ],
   "source": [
    "import numpy as np\n",
    "import h5py\n",
    "import torch\n",
    "import torch.utils.data as data_utils\n",
    "from torch.utils.data.dataset import random_split\n",
    "import numpy as np\n",
    "from torch.autograd import Variable\n",
    "import torch.nn as nn\n",
    "import torch.optim as optim"
   ]
  },
  {
   "cell_type": "markdown",
   "metadata": {
    "raw_mimetype": "text/markdown"
   },
   "source": [
    "# Helper Clases / Functions"
   ]
  },
  {
   "cell_type": "code",
   "execution_count": 2,
   "metadata": {},
   "outputs": [],
   "source": [
    "def Load_Data(num):\n",
    "    if (num == -1): # All data\n",
    "        X_all = []\n",
    "        y_all = []\n",
    "        for i in range(8):\n",
    "            file_path = './../project_datasets/A0' + str(i+1) + 'T_slice.mat'\n",
    "            data = h5py.File(file_path, 'r')\n",
    "            X = np.copy(data['image'])\n",
    "            y = np.copy(data['type'])\n",
    "            X = X[:, 0:23, :]\n",
    "            X_all.append(X)\n",
    "            y = y[0,0:X.shape[0]:1]\n",
    "            y_all.append(y)\n",
    "        A, N, E, T = np.shape(X_all)\n",
    "        X_all = np.reshape(X_all, (A*N, E, T))\n",
    "        y_all = np.reshape(y_all, (-1))\n",
    "        y_all = y_all - 769\n",
    "        ## Remove NAN\n",
    "        index_Nan = []\n",
    "        for i in range(A*N):\n",
    "            for j in range(E):\n",
    "                if (any(np.isnan(X_all[i,j])) == True):\n",
    "                    index_Nan.append(i)\n",
    "        index_Nan = list(set(index_Nan))\n",
    "        X_all = np.delete(X_all, index_Nan, axis=0)\n",
    "        y_all = np.delete(y_all, index_Nan)\n",
    "        return (X_all, y_all)\n",
    "    else:\n",
    "        file_path = './../project_datasets/A0' + str(num) + 'T_slice.mat'\n",
    "        data = h5py.File(file_path, 'r')\n",
    "        X = np.copy(data['image'])\n",
    "        y = np.copy(data['type'])\n",
    "        X = X[:, 0:23, :]\n",
    "        y = y[0,0:X.shape[0]:1]\n",
    "        y = y - 769\n",
    "         ## Remove NAN\n",
    "        N, E, T = np.shape(X)\n",
    "        index_Nan = []\n",
    "        for i in range(N):\n",
    "            for j in range(E):\n",
    "                if (any(np.isnan(X[i,j])) == True):\n",
    "                    index_Nan.append(i)\n",
    "        index_Nan = list(set(index_Nan))\n",
    "        X = np.delete(X, index_Nan, axis=0)\n",
    "        y = np.delete(y, index_Nan)\n",
    "        return (X, y)"
   ]
  },
  {
   "cell_type": "markdown",
   "metadata": {},
   "source": [
    "# Load Data"
   ]
  },
  {
   "cell_type": "code",
   "execution_count": 3,
   "metadata": {},
   "outputs": [
    {
     "name": "stdout",
     "output_type": "stream",
     "text": [
      "(2280, 23, 1000)\n"
     ]
    }
   ],
   "source": [
    "X, y = Load_Data(-1) # -1 to load all datas\n",
    "N, E, T = np.shape(X)\n",
    "print (np.shape(X))"
   ]
  },
  {
   "cell_type": "markdown",
   "metadata": {},
   "source": [
    "# Make DataLoaders"
   ]
  },
  {
   "cell_type": "code",
   "execution_count": 12,
   "metadata": {},
   "outputs": [],
   "source": [
    "bs_train = 200\n",
    "bs_val = 100\n",
    "bs_test = 100\n",
    "data = data_utils.TensorDataset(torch.Tensor(X), torch.Tensor(y))\n",
    "dset = {}\n",
    "dataloaders = {}\n",
    "dset['train'], dset['val'], dset['test'] = random_split(data, [N-bs_val-bs_test, bs_val, bs_test])\n",
    "dataloaders['train'] = data_utils.DataLoader(dset['train'], batch_size=bs_train, shuffle=True, num_workers=1)\n",
    "dataloaders['val'] = data_utils.DataLoader(dset['val'], batch_size=bs_val, shuffle=True, num_workers=1)\n",
    "dataloaders['test'] = data_utils.DataLoader(dset['test'], batch_size=bs_test, shuffle=True, num_workers=1)"
   ]
  },
  {
   "cell_type": "markdown",
   "metadata": {},
   "source": [
    "# Define Model"
   ]
  },
  {
   "cell_type": "code",
   "execution_count": 17,
   "metadata": {},
   "outputs": [],
   "source": [
    "class myLSTM(nn.Module):\n",
    "    def __init__(self, input_dim, hidden_dim, num_layer, num_class):\n",
    "        super(myLSTM, self).__init__()\n",
    "        self.num_layer = num_layer\n",
    "        self.hidden_dim = hidden_dim\n",
    "        self.conv_temp = nn.Conv2d(1,40,tuple([1,25]))\n",
    "        self.conv_elec = nn.Conv3d(1,23,tuple([40, 23, 1]))\n",
    "        self.lstm = nn.LSTM(input_dim, hidden_dim, num_layer)\n",
    "        self.lstm_bn = nn.BatchNorm1d(hidden_dim)\n",
    "        self.classifier = nn.Linear(hidden_dim, num_class)\n",
    "    def forward(self, x):\n",
    "        x.unsqueeze_(1)\n",
    "        out_conv_temp = self.conv_temp(x)\n",
    "        out_conv_temp = out_conv_temp.unsqueeze_(1)\n",
    "        out_conv_elec = self.conv_elec(out_conv_temp)\n",
    "        out_conv_elec_sque= torch.squeeze(out_conv_elec)\n",
    "        out_swap = out_conv_elec_sque.permute(2,0,1)\n",
    "        out_lstm, _ = self.lstm(out_swap)\n",
    "        out_lstm = out_lstm[-1, :, :]\n",
    "        out_bn = self.lstm_bn(out_lstm)\n",
    "        out = self.classifier(out_bn)\n",
    "        return out\n",
    "    def check_accuracy(self, dataloader):\n",
    "        total_correct = 0\n",
    "        total_label = 0\n",
    "        for i_batch, sample_batched in enumerate(dataloader):\n",
    "            X_sample, y_sample = sample_batched\n",
    "            X_sample, y_sample = Variable(X_sample), Variable(y_sample)\n",
    "            out = self.forward(X_sample.cuda())\n",
    "            _, pred = torch.max(out, 1)\n",
    "            num_correct = np.sum(pred.data.cpu().numpy() == y_sample.data.cpu().numpy())\n",
    "            total_correct += num_correct\n",
    "            total_label += len(pred)\n",
    "        return  total_correct / total_label"
   ]
  },
  {
   "cell_type": "code",
   "execution_count": 18,
   "metadata": {},
   "outputs": [],
   "source": [
    "dtype = torch.cuda.FloatTensor\n",
    "hidden_dim = 20\n",
    "num_classes = 4\n",
    "num_epoches = 10\n",
    "model = myLSTM(E, hidden_dim, 1, num_classes)\n",
    "model.type(dtype)\n",
    "loss_fn = nn.CrossEntropyLoss().type(dtype)\n",
    "optimizer = optim.Adam(model.parameters(), lr=1e-3)"
   ]
  },
  {
   "cell_type": "markdown",
   "metadata": {},
   "source": [
    "# Conv Training"
   ]
  },
  {
   "cell_type": "code",
   "execution_count": 19,
   "metadata": {},
   "outputs": [],
   "source": [
    "best_acc = 0.35"
   ]
  },
  {
   "cell_type": "code",
   "execution_count": 20,
   "metadata": {},
   "outputs": [
    {
     "name": "stdout",
     "output_type": "stream",
     "text": [
      "(0 batch) loss: 1.438864\n",
      "(1 batch) loss: 1.424930\n",
      "(2 batch) loss: 1.385043\n",
      "(3 batch) loss: 1.434762\n",
      "(4 batch) loss: 1.431624\n",
      "(5 batch) loss: 1.446689\n",
      "(6 batch) loss: 1.449058\n",
      "(7 batch) loss: 1.370773\n",
      "(8 batch) loss: 1.424537\n",
      "(9 batch) loss: 1.415198\n",
      "(10 batch) loss: 1.398274\n",
      "(Epoch 1 / 10) train_acc: 0.295192; val_acc: 0.240000\n",
      "(0 batch) loss: 1.352883\n",
      "(1 batch) loss: 1.375430\n",
      "(2 batch) loss: 1.375569\n",
      "(3 batch) loss: 1.375325\n",
      "(4 batch) loss: 1.367728\n",
      "(5 batch) loss: 1.402820\n",
      "(6 batch) loss: 1.360056\n",
      "(7 batch) loss: 1.403535\n",
      "(8 batch) loss: 1.404801\n",
      "(9 batch) loss: 1.382726\n",
      "(10 batch) loss: 1.321067\n",
      "(Epoch 2 / 10) train_acc: 0.340865; val_acc: 0.230000\n",
      "(0 batch) loss: 1.327368\n",
      "(1 batch) loss: 1.356006\n",
      "(2 batch) loss: 1.337800\n",
      "(3 batch) loss: 1.344773\n",
      "(4 batch) loss: 1.391937\n",
      "(5 batch) loss: 1.339071\n",
      "(6 batch) loss: 1.369054\n",
      "(7 batch) loss: 1.386126\n",
      "(8 batch) loss: 1.341074\n",
      "(9 batch) loss: 1.391752\n",
      "(10 batch) loss: 1.383994\n",
      "(Epoch 3 / 10) train_acc: 0.362981; val_acc: 0.250000\n",
      "(0 batch) loss: 1.353543\n",
      "(1 batch) loss: 1.323344\n",
      "(2 batch) loss: 1.328309\n",
      "(3 batch) loss: 1.353899\n",
      "(4 batch) loss: 1.328304\n",
      "(5 batch) loss: 1.326604\n",
      "(6 batch) loss: 1.344438\n",
      "(7 batch) loss: 1.321794\n",
      "(8 batch) loss: 1.352231\n",
      "(9 batch) loss: 1.354358\n",
      "(10 batch) loss: 1.392248\n",
      "(Epoch 4 / 10) train_acc: 0.384615; val_acc: 0.210000\n",
      "(0 batch) loss: 1.326680\n",
      "(1 batch) loss: 1.334143\n",
      "(2 batch) loss: 1.340570\n",
      "(3 batch) loss: 1.284588\n",
      "(4 batch) loss: 1.320808\n",
      "(5 batch) loss: 1.343259\n",
      "(6 batch) loss: 1.300949\n",
      "(7 batch) loss: 1.330787\n",
      "(8 batch) loss: 1.352298\n",
      "(9 batch) loss: 1.322099\n",
      "(10 batch) loss: 1.313290\n",
      "(Epoch 5 / 10) train_acc: 0.390865; val_acc: 0.200000\n",
      "(0 batch) loss: 1.346740\n",
      "(1 batch) loss: 1.315948\n",
      "(2 batch) loss: 1.309913\n",
      "(3 batch) loss: 1.303697\n",
      "(4 batch) loss: 1.294870\n",
      "(5 batch) loss: 1.318591\n",
      "(6 batch) loss: 1.316306\n",
      "(7 batch) loss: 1.320490\n",
      "(8 batch) loss: 1.312849\n",
      "(9 batch) loss: 1.328035\n",
      "(10 batch) loss: 1.303951\n",
      "(Epoch 6 / 10) train_acc: 0.402404; val_acc: 0.260000\n",
      "(0 batch) loss: 1.279105\n",
      "(1 batch) loss: 1.302726\n",
      "(2 batch) loss: 1.288107\n",
      "(3 batch) loss: 1.326545\n",
      "(4 batch) loss: 1.306456\n",
      "(5 batch) loss: 1.309907\n",
      "(6 batch) loss: 1.345121\n",
      "(7 batch) loss: 1.295625\n",
      "(8 batch) loss: 1.304950\n",
      "(9 batch) loss: 1.293649\n",
      "(10 batch) loss: 1.345013\n",
      "(Epoch 7 / 10) train_acc: 0.421635; val_acc: 0.240000\n",
      "(0 batch) loss: 1.299450\n",
      "(1 batch) loss: 1.278467\n",
      "(2 batch) loss: 1.298673\n",
      "(3 batch) loss: 1.274473\n",
      "(4 batch) loss: 1.304563\n",
      "(5 batch) loss: 1.302120\n",
      "(6 batch) loss: 1.306484\n",
      "(7 batch) loss: 1.284280\n",
      "(8 batch) loss: 1.290330\n",
      "(9 batch) loss: 1.325511\n",
      "(10 batch) loss: 1.273110\n",
      "(Epoch 8 / 10) train_acc: 0.442308; val_acc: 0.250000\n",
      "(0 batch) loss: 1.290850\n",
      "(1 batch) loss: 1.233486\n",
      "(2 batch) loss: 1.294979\n",
      "(3 batch) loss: 1.274706\n",
      "(4 batch) loss: 1.250797\n",
      "(5 batch) loss: 1.282951\n",
      "(6 batch) loss: 1.270325\n",
      "(7 batch) loss: 1.281269\n",
      "(8 batch) loss: 1.312815\n",
      "(9 batch) loss: 1.302480\n",
      "(10 batch) loss: 1.288946\n",
      "(Epoch 9 / 10) train_acc: 0.450962; val_acc: 0.240000\n",
      "(0 batch) loss: 1.245643\n",
      "(1 batch) loss: 1.276493\n",
      "(2 batch) loss: 1.259482\n",
      "(3 batch) loss: 1.268400\n",
      "(4 batch) loss: 1.290822\n",
      "(5 batch) loss: 1.254737\n",
      "(6 batch) loss: 1.246761\n",
      "(7 batch) loss: 1.246975\n",
      "(8 batch) loss: 1.293999\n",
      "(9 batch) loss: 1.297908\n",
      "(10 batch) loss: 1.269143\n",
      "(Epoch 10 / 10) train_acc: 0.458654; val_acc: 0.250000\n"
     ]
    }
   ],
   "source": [
    "for epoch in range(num_epoches):\n",
    "    for i, data in enumerate(dataloaders['train'], 0):\n",
    "        X_train, y_train = data\n",
    "        # Wrap them in Variable\n",
    "        X_train, y_train = Variable(X_train), Variable(y_train)\n",
    "        # forward + backward + optimize\n",
    "        out = model(X_train.cuda())\n",
    "        # print (out)\n",
    "        loss = loss_fn(out, y_train.long().cuda())\n",
    "        print('(%d batch) loss: %f' % (i, loss))\n",
    "        # zero the parameter gradients\n",
    "        optimizer.zero_grad()\n",
    "        loss.backward()\n",
    "        optimizer.step()\n",
    "    train_acc = model.check_accuracy(dataloaders['train'])\n",
    "    val_acc = model.check_accuracy(dataloaders['val'])\n",
    "    print('(Epoch %d / %d) train_acc: %f; val_acc: %f' % (epoch+1, num_epoches, train_acc, val_acc))\n",
    "    if (val_acc > best_acc):\n",
    "        best_acc = val_acc\n",
    "        torch.save(model, 'best_LSTM_CONV_BN.pt')"
   ]
  },
  {
   "cell_type": "markdown",
   "metadata": {},
   "source": [
    "# Best Model Test"
   ]
  },
  {
   "cell_type": "code",
   "execution_count": 10,
   "metadata": {},
   "outputs": [
    {
     "name": "stdout",
     "output_type": "stream",
     "text": [
      "0.35\n"
     ]
    },
    {
     "name": "stderr",
     "output_type": "stream",
     "text": [
      "/home/andrew/Desktop/Project/model_explore/.env/lib/python3.5/site-packages/ipykernel_launcher.py:17: UserWarning: RNN module weights are not part of single contiguous chunk of memory. This means they need to be compacted at every call, possibly greatly increasing memory usage. To compact weights again call flatten_parameters().\n"
     ]
    }
   ],
   "source": [
    "best_model = torch.load('best_LSTM_CONV.pt')\n",
    "print (best_model.check_accuracy(dataloaders['val']))"
   ]
  },
  {
   "cell_type": "code",
   "execution_count": null,
   "metadata": {},
   "outputs": [],
   "source": []
  }
 ],
 "metadata": {
  "celltoolbar": "Raw Cell Format",
  "kernelspec": {
   "display_name": "Python 3",
   "language": "python",
   "name": "python3"
  },
  "language_info": {
   "codemirror_mode": {
    "name": "ipython",
    "version": 3
   },
   "file_extension": ".py",
   "mimetype": "text/x-python",
   "name": "python",
   "nbconvert_exporter": "python",
   "pygments_lexer": "ipython3",
   "version": "3.5.2"
  }
 },
 "nbformat": 4,
 "nbformat_minor": 2
}
