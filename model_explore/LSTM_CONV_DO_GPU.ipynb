{
 "cells": [
  {
   "cell_type": "code",
   "execution_count": 1,
   "metadata": {},
   "outputs": [
    {
     "name": "stderr",
     "output_type": "stream",
     "text": [
      "/home/andrew/Desktop/Project/model_explore/.env/lib/python3.5/site-packages/h5py/__init__.py:36: FutureWarning: Conversion of the second argument of issubdtype from `float` to `np.floating` is deprecated. In future, it will be treated as `np.float64 == np.dtype(float).type`.\n",
      "  from ._conv import register_converters as _register_converters\n"
     ]
    }
   ],
   "source": [
    "import numpy as np\n",
    "import h5py\n",
    "import torch\n",
    "import torch.utils.data as data_utils\n",
    "from torch.utils.data.dataset import random_split\n",
    "import numpy as np\n",
    "from torch.autograd import Variable\n",
    "import torch.nn as nn\n",
    "import torch.optim as optim"
   ]
  },
  {
   "cell_type": "markdown",
   "metadata": {
    "raw_mimetype": "text/markdown"
   },
   "source": [
    "# Helper Clases / Functions"
   ]
  },
  {
   "cell_type": "code",
   "execution_count": 2,
   "metadata": {},
   "outputs": [],
   "source": [
    "def Load_Data(num):\n",
    "    if (num == -1): # All data\n",
    "        X_all = []\n",
    "        y_all = []\n",
    "        for i in range(8):\n",
    "            file_path = './../project_datasets/A0' + str(i+1) + 'T_slice.mat'\n",
    "            data = h5py.File(file_path, 'r')\n",
    "            X = np.copy(data['image'])\n",
    "            y = np.copy(data['type'])\n",
    "            X = X[:, 0:23, :]\n",
    "            X_all.append(X)\n",
    "            y = y[0,0:X.shape[0]:1]\n",
    "            y_all.append(y)\n",
    "        A, N, E, T = np.shape(X_all)\n",
    "        X_all = np.reshape(X_all, (A*N, E, T))\n",
    "        y_all = np.reshape(y_all, (-1))\n",
    "        y_all = y_all - 769\n",
    "        ## Remove NAN\n",
    "        index_Nan = []\n",
    "        for i in range(A*N):\n",
    "            for j in range(E):\n",
    "                if (any(np.isnan(X_all[i,j])) == True):\n",
    "                    index_Nan.append(i)\n",
    "        index_Nan = list(set(index_Nan))\n",
    "        X_all = np.delete(X_all, index_Nan, axis=0)\n",
    "        y_all = np.delete(y_all, index_Nan)\n",
    "        return (X_all, y_all)\n",
    "    else:\n",
    "        file_path = './../project_datasets/A0' + str(num) + 'T_slice.mat'\n",
    "        data = h5py.File(file_path, 'r')\n",
    "        X = np.copy(data['image'])\n",
    "        y = np.copy(data['type'])\n",
    "        X = X[:, 0:23, :]\n",
    "        y = y[0,0:X.shape[0]:1]\n",
    "        y = y - 769\n",
    "         ## Remove NAN\n",
    "        N, E, T = np.shape(X)\n",
    "        index_Nan = []\n",
    "        for i in range(N):\n",
    "            for j in range(E):\n",
    "                if (any(np.isnan(X[i,j])) == True):\n",
    "                    index_Nan.append(i)\n",
    "        index_Nan = list(set(index_Nan))\n",
    "        X = np.delete(X, index_Nan, axis=0)\n",
    "        y = np.delete(y, index_Nan)\n",
    "        return (X, y)"
   ]
  },
  {
   "cell_type": "markdown",
   "metadata": {},
   "source": [
    "# Load Data"
   ]
  },
  {
   "cell_type": "code",
   "execution_count": 3,
   "metadata": {},
   "outputs": [
    {
     "name": "stdout",
     "output_type": "stream",
     "text": [
      "(2280, 23, 1000)\n"
     ]
    }
   ],
   "source": [
    "X, y = Load_Data(-1) # -1 to load all datas\n",
    "N, E, T = np.shape(X)\n",
    "print (np.shape(X))"
   ]
  },
  {
   "cell_type": "markdown",
   "metadata": {},
   "source": [
    "# Make DataLoaders"
   ]
  },
  {
   "cell_type": "code",
   "execution_count": 4,
   "metadata": {},
   "outputs": [],
   "source": [
    "bs_train = 200\n",
    "bs_val = 100\n",
    "bs_test = 100\n",
    "data = data_utils.TensorDataset(torch.Tensor(X), torch.Tensor(y))\n",
    "dset = {}\n",
    "dataloaders = {}\n",
    "dset['train'], dset['val'], dset['test'] = random_split(data, [N-bs_val-bs_test, bs_val, bs_test])\n",
    "dataloaders['train'] = data_utils.DataLoader(dset['train'], batch_size=bs_train, shuffle=True, num_workers=1)\n",
    "dataloaders['val'] = data_utils.DataLoader(dset['val'], batch_size=bs_val, shuffle=True, num_workers=1)\n",
    "dataloaders['test'] = data_utils.DataLoader(dset['test'], batch_size=bs_test, shuffle=True, num_workers=1)"
   ]
  },
  {
   "cell_type": "markdown",
   "metadata": {},
   "source": [
    "# Define Model"
   ]
  },
  {
   "cell_type": "code",
   "execution_count": 13,
   "metadata": {},
   "outputs": [],
   "source": [
    "class myLSTM(nn.Module):\n",
    "    def __init__(self, input_dim, hidden_dim, num_layer, num_class):\n",
    "        super(myLSTM, self).__init__()\n",
    "        self.num_layer = num_layer\n",
    "        self.hidden_dim = hidden_dim\n",
    "        self.conv_temp = nn.Conv2d(1,40,tuple([1,25]))\n",
    "        self.conv_elec = nn.Conv3d(1,23,tuple([40, 23, 1]))\n",
    "        self.lstm = nn.LSTM(input_dim, hidden_dim, num_layer, dropout=0.5)\n",
    "        self.classifier = nn.Linear(hidden_dim, num_class)\n",
    "    def forward(self, x):\n",
    "        x.unsqueeze_(1)\n",
    "        out_conv_temp = self.conv_temp(x)\n",
    "        out_conv_temp = out_conv_temp.unsqueeze_(1)\n",
    "        out_conv_elec = self.conv_elec(out_conv_temp)\n",
    "        out_conv_elec_sque= torch.squeeze(out_conv_elec)\n",
    "        out_swap = out_conv_elec_sque.permute(2,0,1)\n",
    "        out_lstm, _ = self.lstm(out_swap)\n",
    "        out_lstm = out_lstm[-1, :, :]\n",
    "        out = self.classifier(out_lstm)\n",
    "        return out\n",
    "    def check_accuracy(self, dataloader):\n",
    "        total_correct = 0\n",
    "        total_label = 0\n",
    "        for i_batch, sample_batched in enumerate(dataloader):\n",
    "            X_sample, y_sample = sample_batched\n",
    "            X_sample, y_sample = Variable(X_sample), Variable(y_sample)\n",
    "            out = self.forward(X_sample.cuda())\n",
    "            _, pred = torch.max(out, 1)\n",
    "            num_correct = np.sum(pred.data.cpu().numpy() == y_sample.data.cpu().numpy())\n",
    "            total_correct += num_correct\n",
    "            total_label += len(pred)\n",
    "        return  total_correct / total_label"
   ]
  },
  {
   "cell_type": "code",
   "execution_count": 14,
   "metadata": {},
   "outputs": [],
   "source": [
    "dtype = torch.cuda.FloatTensor\n",
    "hidden_dim = 20\n",
    "num_classes = 4\n",
    "num_epoches = 10\n",
    "model = myLSTM(E, hidden_dim, 1, num_classes)\n",
    "model.type(dtype)\n",
    "loss_fn = nn.CrossEntropyLoss().type(dtype)\n",
    "optimizer = optim.Adam(model.parameters(), lr=1e-3)"
   ]
  },
  {
   "cell_type": "markdown",
   "metadata": {},
   "source": [
    "# Conv Training"
   ]
  },
  {
   "cell_type": "code",
   "execution_count": 15,
   "metadata": {},
   "outputs": [],
   "source": [
    "best_acc = 0.35"
   ]
  },
  {
   "cell_type": "code",
   "execution_count": 16,
   "metadata": {},
   "outputs": [
    {
     "name": "stdout",
     "output_type": "stream",
     "text": [
      "(0 batch) loss: 1.415361\n",
      "(1 batch) loss: 1.401772\n",
      "(2 batch) loss: 1.407655\n",
      "(3 batch) loss: 1.404101\n",
      "(4 batch) loss: 1.393789\n",
      "(5 batch) loss: 1.397655\n",
      "(6 batch) loss: 1.419183\n",
      "(7 batch) loss: 1.401364\n",
      "(8 batch) loss: 1.418651\n",
      "(9 batch) loss: 1.405664\n",
      "(10 batch) loss: 1.426728\n",
      "(Epoch 1 / 10) train_acc: 0.297115; val_acc: 0.220000\n",
      "(0 batch) loss: 1.375411\n",
      "(1 batch) loss: 1.396444\n",
      "(2 batch) loss: 1.377945\n",
      "(3 batch) loss: 1.376789\n",
      "(4 batch) loss: 1.372616\n",
      "(5 batch) loss: 1.383889\n",
      "(6 batch) loss: 1.351731\n",
      "(7 batch) loss: 1.384928\n",
      "(8 batch) loss: 1.381230\n",
      "(9 batch) loss: 1.412637\n",
      "(10 batch) loss: 1.336806\n",
      "(Epoch 2 / 10) train_acc: 0.318750; val_acc: 0.240000\n",
      "(0 batch) loss: 1.364723\n",
      "(1 batch) loss: 1.377169\n",
      "(2 batch) loss: 1.360615\n",
      "(3 batch) loss: 1.364594\n",
      "(4 batch) loss: 1.350826\n",
      "(5 batch) loss: 1.365352\n",
      "(6 batch) loss: 1.356017\n",
      "(7 batch) loss: 1.347816\n",
      "(8 batch) loss: 1.366390\n",
      "(9 batch) loss: 1.390154\n",
      "(10 batch) loss: 1.349258\n",
      "(Epoch 3 / 10) train_acc: 0.357212; val_acc: 0.230000\n",
      "(0 batch) loss: 1.353026\n",
      "(1 batch) loss: 1.344972\n",
      "(2 batch) loss: 1.349790\n",
      "(3 batch) loss: 1.335716\n",
      "(4 batch) loss: 1.365278\n",
      "(5 batch) loss: 1.361349\n",
      "(6 batch) loss: 1.357175\n",
      "(7 batch) loss: 1.373885\n",
      "(8 batch) loss: 1.317914\n",
      "(9 batch) loss: 1.344978\n",
      "(10 batch) loss: 1.349207\n",
      "(Epoch 4 / 10) train_acc: 0.381250; val_acc: 0.280000\n",
      "(0 batch) loss: 1.336165\n",
      "(1 batch) loss: 1.326330\n",
      "(2 batch) loss: 1.348196\n",
      "(3 batch) loss: 1.349974\n",
      "(4 batch) loss: 1.331936\n",
      "(5 batch) loss: 1.341707\n",
      "(6 batch) loss: 1.346283\n",
      "(7 batch) loss: 1.326841\n",
      "(8 batch) loss: 1.340452\n",
      "(9 batch) loss: 1.356141\n",
      "(10 batch) loss: 1.324235\n",
      "(Epoch 5 / 10) train_acc: 0.391827; val_acc: 0.260000\n",
      "(0 batch) loss: 1.337786\n",
      "(1 batch) loss: 1.351146\n",
      "(2 batch) loss: 1.339019\n",
      "(3 batch) loss: 1.311202\n",
      "(4 batch) loss: 1.313379\n",
      "(5 batch) loss: 1.333392\n",
      "(6 batch) loss: 1.325381\n",
      "(7 batch) loss: 1.346905\n",
      "(8 batch) loss: 1.329504\n",
      "(9 batch) loss: 1.318919\n",
      "(10 batch) loss: 1.371634\n",
      "(Epoch 6 / 10) train_acc: 0.404808; val_acc: 0.250000\n",
      "(0 batch) loss: 1.303519\n",
      "(1 batch) loss: 1.345659\n",
      "(2 batch) loss: 1.311077\n",
      "(3 batch) loss: 1.309732\n",
      "(4 batch) loss: 1.326622\n",
      "(5 batch) loss: 1.317953\n",
      "(6 batch) loss: 1.332009\n",
      "(7 batch) loss: 1.319429\n",
      "(8 batch) loss: 1.324792\n",
      "(9 batch) loss: 1.348386\n",
      "(10 batch) loss: 1.333856\n",
      "(Epoch 7 / 10) train_acc: 0.410096; val_acc: 0.310000\n",
      "(0 batch) loss: 1.327047\n",
      "(1 batch) loss: 1.331782\n",
      "(2 batch) loss: 1.317799\n",
      "(3 batch) loss: 1.320266\n",
      "(4 batch) loss: 1.328930\n",
      "(5 batch) loss: 1.320529\n",
      "(6 batch) loss: 1.296451\n",
      "(7 batch) loss: 1.326022\n",
      "(8 batch) loss: 1.303994\n",
      "(9 batch) loss: 1.298136\n",
      "(10 batch) loss: 1.317317\n",
      "(Epoch 8 / 10) train_acc: 0.426442; val_acc: 0.290000\n",
      "(0 batch) loss: 1.310950\n",
      "(1 batch) loss: 1.311463\n",
      "(2 batch) loss: 1.295378\n",
      "(3 batch) loss: 1.303712\n",
      "(4 batch) loss: 1.320403\n",
      "(5 batch) loss: 1.317347\n",
      "(6 batch) loss: 1.298214\n",
      "(7 batch) loss: 1.320765\n",
      "(8 batch) loss: 1.306395\n",
      "(9 batch) loss: 1.307049\n",
      "(10 batch) loss: 1.285325\n",
      "(Epoch 9 / 10) train_acc: 0.439904; val_acc: 0.290000\n",
      "(0 batch) loss: 1.271001\n",
      "(1 batch) loss: 1.304733\n",
      "(2 batch) loss: 1.297992\n",
      "(3 batch) loss: 1.296661\n",
      "(4 batch) loss: 1.315864\n",
      "(5 batch) loss: 1.292181\n",
      "(6 batch) loss: 1.316347\n",
      "(7 batch) loss: 1.294140\n",
      "(8 batch) loss: 1.303214\n",
      "(9 batch) loss: 1.289883\n",
      "(10 batch) loss: 1.266571\n",
      "(Epoch 10 / 10) train_acc: 0.451442; val_acc: 0.240000\n"
     ]
    }
   ],
   "source": [
    "for epoch in range(num_epoches):\n",
    "    for i, data in enumerate(dataloaders['train'], 0):\n",
    "        X_train, y_train = data\n",
    "        # Wrap them in Variable\n",
    "        X_train, y_train = Variable(X_train), Variable(y_train)\n",
    "        # forward + backward + optimize\n",
    "        out = model(X_train.cuda())\n",
    "        # print (out)\n",
    "        loss = loss_fn(out, y_train.long().cuda())\n",
    "        print('(%d batch) loss: %f' % (i, loss))\n",
    "        # zero the parameter gradients\n",
    "        optimizer.zero_grad()\n",
    "        loss.backward()\n",
    "        optimizer.step()\n",
    "    train_acc = model.check_accuracy(dataloaders['train'])\n",
    "    val_acc = model.check_accuracy(dataloaders['val'])\n",
    "    print('(Epoch %d / %d) train_acc: %f; val_acc: %f' % (epoch+1, num_epoches, train_acc, val_acc))\n",
    "    if (val_acc > best_acc):\n",
    "        best_acc = val_acc\n",
    "        torch.save(model, 'best_LSTM_CONV_DO.pt')"
   ]
  },
  {
   "cell_type": "markdown",
   "metadata": {},
   "source": [
    "# Best Model Test"
   ]
  },
  {
   "cell_type": "code",
   "execution_count": 10,
   "metadata": {},
   "outputs": [
    {
     "name": "stdout",
     "output_type": "stream",
     "text": [
      "0.35\n"
     ]
    },
    {
     "name": "stderr",
     "output_type": "stream",
     "text": [
      "/home/andrew/Desktop/Project/model_explore/.env/lib/python3.5/site-packages/ipykernel_launcher.py:17: UserWarning: RNN module weights are not part of single contiguous chunk of memory. This means they need to be compacted at every call, possibly greatly increasing memory usage. To compact weights again call flatten_parameters().\n"
     ]
    }
   ],
   "source": [
    "best_model = torch.load('best_LSTM_CONV.pt')\n",
    "print (best_model.check_accuracy(dataloaders['val']))"
   ]
  },
  {
   "cell_type": "code",
   "execution_count": null,
   "metadata": {},
   "outputs": [],
   "source": []
  }
 ],
 "metadata": {
  "celltoolbar": "Raw Cell Format",
  "kernelspec": {
   "display_name": "Python 3",
   "language": "python",
   "name": "python3"
  },
  "language_info": {
   "codemirror_mode": {
    "name": "ipython",
    "version": 3
   },
   "file_extension": ".py",
   "mimetype": "text/x-python",
   "name": "python",
   "nbconvert_exporter": "python",
   "pygments_lexer": "ipython3",
   "version": "3.5.2"
  }
 },
 "nbformat": 4,
 "nbformat_minor": 2
}
