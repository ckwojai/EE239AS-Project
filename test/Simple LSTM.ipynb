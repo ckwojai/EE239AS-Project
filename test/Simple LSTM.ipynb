{
 "cells": [
  {
   "cell_type": "code",
   "execution_count": 16,
   "metadata": {},
   "outputs": [],
   "source": [
    "import numpy as np\n",
    "import torch\n",
    "from torch.autograd import Variable\n",
    "import torch.nn as nn\n",
    "import torch.optim as optim"
   ]
  },
  {
   "cell_type": "code",
   "execution_count": 57,
   "metadata": {},
   "outputs": [],
   "source": [
    "# helper functions\n",
    "\n",
    "# make minibatch for training\n",
    "def minibatch(X, y, batch_size=50):\n",
    "    X = X.data.numpy()\n",
    "    y = y.data.numpy()\n",
    "    N = X.shape[0]\n",
    "    batch_mask = np.random.choice(N, batch_size)\n",
    "    X_batch = X[batch_mask]\n",
    "    y_batch = y[batch_mask]\n",
    "    return Variable(torch.Tensor(X_batch)), Variable(torch.Tensor(y_batch))"
   ]
  },
  {
   "cell_type": "code",
   "execution_count": 54,
   "metadata": {},
   "outputs": [],
   "source": [
    "dtype = torch.LongTensor\n",
    "N, E, T= 100, 25, 500\n",
    "C = 4\n",
    "X = Variable(torch.randn(T, N, E))\n",
    "\n",
    "#y = np.random.randint(0, 4, size=100)\n",
    "#y = Variable(torch.Tensor(y), requires_grad=False)\n",
    "y = Variable(torch.LongTensor(N).random_(0, C-1))\n",
    "#X.type(dtype)\n",
    "#y.type(dtype)\n",
    "\n",
    "model = nn.Sequential(\n",
    "    nn.LSTM(E, C, 2)\n",
    ")\n",
    "\n",
    "loss_fn = nn.CrossEntropyLoss().type(dtype)\n",
    "optimizer = optim.Adam(model.parameters(), lr=1e-3)"
   ]
  },
  {
   "cell_type": "code",
   "execution_count": 55,
   "metadata": {},
   "outputs": [
    {
     "name": "stdout",
     "output_type": "stream",
     "text": [
      "0\n",
      "1\n",
      "2\n",
      "3\n",
      "4\n",
      "5\n",
      "6\n",
      "7\n",
      "8\n",
      "9\n"
     ]
    }
   ],
   "source": [
    "for t in range(10):\n",
    "    # Calculate the loss\n",
    "    y_pred, _ = model(X)\n",
    "    last_output = y_pred[-1]\n",
    "    loss = loss_fn(last_output, y)\n",
    "    # Do backpropagation\n",
    "    model.zero_grad()\n",
    "    loss.backward()\n",
    "    # Update the parameters\n",
    "    optimizer.step()\n",
    "    \n",
    "    print (t)"
   ]
  },
  {
   "cell_type": "code",
   "execution_count": 56,
   "metadata": {},
   "outputs": [
    {
     "name": "stdout",
     "output_type": "stream",
     "text": [
      "Variable containing:\n",
      " 1.4617\n",
      "[torch.FloatTensor of size 1]\n",
      "\n"
     ]
    },
    {
     "data": {
      "text/plain": [
       "Sequential(\n",
       "  (0): LSTM(25, 4, num_layers=2)\n",
       ")"
      ]
     },
     "execution_count": 56,
     "metadata": {},
     "output_type": "execute_result"
    }
   ],
   "source": [
    "y_pred = model(X)\n",
    "loss = loss_fn(last_output, y)\n",
    "print (loss)\n",
    "model"
   ]
  },
  {
   "cell_type": "code",
   "execution_count": null,
   "metadata": {},
   "outputs": [],
   "source": []
  }
 ],
 "metadata": {
  "kernelspec": {
   "display_name": "Python 3",
   "language": "python",
   "name": "python3"
  },
  "language_info": {
   "codemirror_mode": {
    "name": "ipython",
    "version": 3
   },
   "file_extension": ".py",
   "mimetype": "text/x-python",
   "name": "python",
   "nbconvert_exporter": "python",
   "pygments_lexer": "ipython3",
   "version": "3.6.4"
  }
 },
 "nbformat": 4,
 "nbformat_minor": 2
}
