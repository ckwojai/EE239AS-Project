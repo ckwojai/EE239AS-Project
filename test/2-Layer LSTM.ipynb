{
 "cells": [
  {
   "cell_type": "code",
   "execution_count": 1,
   "metadata": {},
   "outputs": [
    {
     "name": "stderr",
     "output_type": "stream",
     "text": [
      "/Users/wilsonchang/Desktop/Project/test/.env/lib/python3.6/site-packages/h5py/__init__.py:36: FutureWarning: Conversion of the second argument of issubdtype from `float` to `np.floating` is deprecated. In future, it will be treated as `np.float64 == np.dtype(float).type`.\n",
      "  from ._conv import register_converters as _register_converters\n"
     ]
    }
   ],
   "source": [
    "import numpy as np\n",
    "import h5py\n",
    "import torch\n",
    "#from torch.utils.data import Dataset, DataLoader\n",
    "# import torch.utils.data as data\n",
    "import torch.utils.data as data_utils\n",
    "from torch.utils.data.dataset import random_split\n",
    "import numpy as np\n",
    "from torch.autograd import Variable\n",
    "import torch.nn as nn\n",
    "import torch.optim as optim"
   ]
  },
  {
   "cell_type": "code",
   "execution_count": 2,
   "metadata": {},
   "outputs": [],
   "source": [
    "# helper functions\n",
    "\n",
    "# make minibatch for training\n",
    "def minibatch(X, y, batch_size=50):\n",
    "    X = X.data.numpy()\n",
    "    y = y.data.numpy()\n",
    "    N = X.shape[0]\n",
    "    batch_mask = np.random.choice(N, batch_size)\n",
    "    X_batch = X[batch_mask]\n",
    "    y_batch = y[batch_mask]\n",
    "    return Variable(torch.Tensor(X_batch)), Variable(torch.Tensor(y_batch))"
   ]
  },
  {
   "cell_type": "markdown",
   "metadata": {
    "raw_mimetype": "text/markdown"
   },
   "source": [
    "Helper Clases"
   ]
  },
  {
   "cell_type": "code",
   "execution_count": 3,
   "metadata": {},
   "outputs": [],
   "source": [
    "class EEGDataset(data_utils.Dataset):\n",
    "    \"\"\"EEG dataset.\"\"\"\n",
    "    def __init__(self, X, y):\n",
    "        self.X = X;\n",
    "        self.y = y;\n",
    "    def __len__(self):\n",
    "        return len(self.X)\n",
    "\n",
    "    def __getitem__(self, idx):\n",
    "        return self.X[idx], self.y[idx]\n",
    "    \n",
    "class Flatten(nn.Module):\n",
    "    def forward(self, x):\n",
    "        N, E, T = x.size() \n",
    "        return x.view(N, -1)"
   ]
  },
  {
   "cell_type": "markdown",
   "metadata": {},
   "source": [
    "Load Data"
   ]
  },
  {
   "cell_type": "code",
   "execution_count": 4,
   "metadata": {},
   "outputs": [
    {
     "name": "stdout",
     "output_type": "stream",
     "text": [
      "<HDF5 file \"A01T_slice.mat\" (mode r)>\n",
      "(288, 23, 1000)\n"
     ]
    }
   ],
   "source": [
    "A01T = h5py.File('project_datasets/A01T_slice.mat', 'r')\n",
    "print (A01T)\n",
    "X = np.copy(A01T['image'])\n",
    "y = np.copy(A01T['type'])\n",
    "X = X[:, 0:23, :] # only goes to 23 since you dont use last 3 channels\n",
    "# X = np.moveaxis(X, -1, 0)\n",
    "y = y[0,0:X.shape[0]:1]\n",
    "#y = np.asarray(y, dtype=np.int32)\n",
    "#subtract 769 so classes start at 0\n",
    "y = y - 769\n",
    "print (np.shape(X))"
   ]
  },
  {
   "cell_type": "code",
   "execution_count": 5,
   "metadata": {},
   "outputs": [],
   "source": [
    "data = EEGDataset(X,y)\n",
    "dset = {}\n",
    "dset['train'], dset['val'], dset['test'] = random_split(data, [len(data)-100, 50, 50])\n",
    "#num_workers for GPU stuff\n",
    "#dataloaders = {x: data_utils.DataLoader(dset[x], batch_size=10, shuffle=True, num_workers=1) for x in ['train', 'val', 'test']}\n",
    "dataloaders = {x: data_utils.DataLoader(dset[x], batch_size=50, shuffle=True) for x in ['train', 'val', 'test']}\n",
    "\n",
    "channels = 23\n",
    "classes = 4\n",
    "#for i_batch, sample_batched in enumerate(dataloaders['train']):\n",
    "#    X, y = sample_batched\n",
    "#    print (X)"
   ]
  },
  {
   "cell_type": "code",
   "execution_count": 6,
   "metadata": {},
   "outputs": [],
   "source": [
    "# toy data\n",
    "#N, E, T= 200, 10, 100\n",
    "#C = 4\n",
    "#X_train = Variable(torch.randn(T, N, E))\n",
    "\n",
    "#y = np.random.randint(0, 4, size=100)\n",
    "#y = Variable(torch.Tensor(y), requires_grad=False)\n",
    "#y_train = Variable(torch.LongTensor(N).random_(0, C-1))\n",
    "#actual = y_train.data.numpy()\n",
    "#X.type(dtype)\n",
    "#y.type(dtype)"
   ]
  },
  {
   "cell_type": "code",
   "execution_count": 7,
   "metadata": {},
   "outputs": [],
   "source": [
    "dtype = torch.DoubleTensor\n",
    "model = nn.Sequential(\n",
    "    nn.LSTM(channels, classes, 2)\n",
    ")\n",
    "model.type(dtype)\n",
    "loss_fn = nn.CrossEntropyLoss().type(dtype)\n",
    "optimizer = optim.Adam(model.parameters(), lr=1e-2)"
   ]
  },
  {
   "cell_type": "code",
   "execution_count": 8,
   "metadata": {
    "scrolled": true
   },
   "outputs": [
    {
     "name": "stdout",
     "output_type": "stream",
     "text": [
      "(0 batch) loss: 259.769315\n",
      "(1 batch) loss: 349.201723\n",
      "(2 batch) loss: 363.309315\n",
      "(3 batch) loss: 291.227014\n",
      "(Epoch 1 / 10) train acc: 0.250000; val_acc: 0.240000\n",
      "(0 batch) loss: 330.561589\n",
      "(1 batch) loss: 369.215714\n",
      "(2 batch) loss: 330.647854\n",
      "(3 batch) loss: 214.720692\n",
      "(Epoch 2 / 10) train acc: 0.250000; val_acc: 0.240000\n",
      "(0 batch) loss: 342.140128\n",
      "(1 batch) loss: 257.667854\n",
      "(2 batch) loss: 286.475452\n",
      "(3 batch) loss: 404.380854\n",
      "(Epoch 3 / 10) train acc: 0.250000; val_acc: 0.240000\n",
      "(0 batch) loss: 360.634125\n",
      "(1 batch) loss: 251.643178\n",
      "(2 batch) loss: 316.040128\n",
      "(3 batch) loss: 349.072963\n",
      "(Epoch 4 / 10) train acc: 0.250000; val_acc: 0.240000\n",
      "(0 batch) loss: 310.877175\n",
      "(1 batch) loss: 272.840128\n",
      "(2 batch) loss: 334.507726\n",
      "(3 batch) loss: 362.352440\n",
      "(Epoch 5 / 10) train acc: 0.250000; val_acc: 0.240000\n",
      "(0 batch) loss: 341.807988\n",
      "(1 batch) loss: 300.403306\n",
      "(2 batch) loss: 326.353863\n",
      "(3 batch) loss: 296.115429\n",
      "(Epoch 6 / 10) train acc: 0.250000; val_acc: 0.240000\n",
      "(0 batch) loss: 341.227854\n",
      "(1 batch) loss: 307.287860\n",
      "(2 batch) loss: 305.883178\n",
      "(3 batch) loss: 314.755251\n",
      "(Epoch 7 / 10) train acc: 0.250000; val_acc: 0.240000\n",
      "(0 batch) loss: 358.387726\n",
      "(1 batch) loss: 344.261717\n",
      "(2 batch) loss: 207.055586\n",
      "(3 batch) loss: 373.562966\n",
      "(Epoch 8 / 10) train acc: 0.250000; val_acc: 0.240000\n",
      "(0 batch) loss: 339.561717\n",
      "(1 batch) loss: 354.607726\n",
      "(2 batch) loss: 318.755714\n",
      "(3 batch) loss: 237.747008\n",
      "(Epoch 9 / 10) train acc: 0.250000; val_acc: 0.240000\n",
      "(0 batch) loss: 342.347988\n",
      "(1 batch) loss: 324.580000\n",
      "(2 batch) loss: 315.335580\n",
      "(3 batch) loss: 278.091204\n",
      "(Epoch 10 / 10) train acc: 0.250000; val_acc: 0.240000\n"
     ]
    }
   ],
   "source": [
    "#training\n",
    "\n",
    "num_epochs = 10\n",
    "batch_size = 10\n",
    "\n",
    "#iterations_per_epoch = N//batch_size\n",
    "best_val_acc = 0\n",
    "train_acc_at_best_val = 0\n",
    "\n",
    "#for epoch in range(1):\n",
    "for epoch in range(num_epochs):\n",
    "    #for t in range(iterations_per_epoch):\n",
    "    for i, sample_batched in enumerate(dataloaders['train']):\n",
    "        \n",
    "        X_train, y_train = sample_batched\n",
    "        # Flip axis first\n",
    "        X_train = torch.Tensor(np.moveaxis(X_train.numpy(), -1, 0))\n",
    "        X_train = Variable(X_train, requires_grad=True).type(dtype)\n",
    "        y_train = Variable(y_train).long()\n",
    "        \n",
    "        # Calculate the loss\n",
    "        scores, _ = model(X_train)\n",
    "        _, y_pred = torch.max(scores, 0)\n",
    "        y_pred = Variable(y_pred.data, requires_grad=True)\n",
    "        y_pred = y_pred.type(dtype)\n",
    "        loss = loss_fn(y_pred, y_train)\n",
    "        print('(%d batch) loss: %f' % (i, loss))\n",
    "        # Do backpropagation\n",
    "        model.zero_grad()\n",
    "        loss.backward()\n",
    "        # Update the parameters\n",
    "        optimizer.step()\n",
    "        ## Training Accuracy After 1 epoch\n",
    "    y_pred_tot = []\n",
    "    y_train_tot = []\n",
    "    for i_batch, sample_batched in enumerate(dataloaders['train']):\n",
    "        X_train, y_train = sample_batched\n",
    "        # Flip axis first\n",
    "        X_train = torch.Tensor(np.moveaxis(X_train.numpy(), -1, 0))\n",
    "        X_train = Variable(X_train, requires_grad=True).type(dtype)\n",
    "        y_train = Variable(y_train).long()\n",
    "        # Calculate the loss\n",
    "        scores, _ = model(X_train)\n",
    "        _, y_pred = torch.max(scores, 0)\n",
    "        _, y_pred = torch.max(y_pred, 1)\n",
    "        y_pred_tot.append(y_pred.data.numpy())\n",
    "        y_train_tot.append(y_train.data.numpy())    \n",
    "    train_acc = np.mean(np.concatenate(y_pred_tot) == np.concatenate(y_train_tot))\n",
    "        ## Validation Accuracy After 1 epoch    \n",
    "    y_pred_tot = []\n",
    "    y_val_tot = []\n",
    "    for i_batch, sample_batched in enumerate(dataloaders['val']):\n",
    "        X_val, y_val = sample_batched\n",
    "        # Flip axis first\n",
    "        X_val = torch.Tensor(np.moveaxis(X_val.numpy(), -1, 0))\n",
    "        X_val = Variable(X_val, requires_grad=True).type(dtype)\n",
    "        y_val = Variable(y_val).long()\n",
    "        # Calculate the loss\n",
    "        scores, _ = model(X_val)\n",
    "        _, y_pred = torch.max(scores, 0)\n",
    "        _, y_pred = torch.max(y_pred, 1)\n",
    "        y_pred_tot.append(y_pred.data.numpy())\n",
    "        y_val_tot.append(y_val.data.numpy())\n",
    "    val_acc = np.mean(np.concatenate(y_pred_tot) == np.concatenate(y_val_tot))\n",
    "    print('(Epoch %d / %d) train acc: %f; val_acc: %f' % (epoch+1, num_epochs, train_acc, val_acc))\n",
    "        "
   ]
  },
  {
   "cell_type": "code",
   "execution_count": 9,
   "metadata": {},
   "outputs": [
    {
     "ename": "NameError",
     "evalue": "name 'last_output' is not defined",
     "output_type": "error",
     "traceback": [
      "\u001b[0;31m---------------------------------------------------------------------------\u001b[0m",
      "\u001b[0;31mNameError\u001b[0m                                 Traceback (most recent call last)",
      "\u001b[0;32m<ipython-input-9-ded6332cb9c3>\u001b[0m in \u001b[0;36m<module>\u001b[0;34m()\u001b[0m\n\u001b[1;32m      1\u001b[0m \u001b[0my_pred\u001b[0m \u001b[0;34m=\u001b[0m \u001b[0mmodel\u001b[0m\u001b[0;34m(\u001b[0m\u001b[0mX_train\u001b[0m\u001b[0;34m)\u001b[0m\u001b[0;34m\u001b[0m\u001b[0m\n\u001b[0;32m----> 2\u001b[0;31m \u001b[0mloss\u001b[0m \u001b[0;34m=\u001b[0m \u001b[0mloss_fn\u001b[0m\u001b[0;34m(\u001b[0m\u001b[0mlast_output\u001b[0m\u001b[0;34m,\u001b[0m \u001b[0my_train\u001b[0m\u001b[0;34m)\u001b[0m\u001b[0;34m\u001b[0m\u001b[0m\n\u001b[0m\u001b[1;32m      3\u001b[0m \u001b[0mprint\u001b[0m \u001b[0;34m(\u001b[0m\u001b[0mloss\u001b[0m\u001b[0;34m)\u001b[0m\u001b[0;34m\u001b[0m\u001b[0m\n\u001b[1;32m      4\u001b[0m \u001b[0mmodel\u001b[0m\u001b[0;34m\u001b[0m\u001b[0m\n",
      "\u001b[0;31mNameError\u001b[0m: name 'last_output' is not defined"
     ]
    }
   ],
   "source": [
    "y_pred = model(X_train)\n",
    "loss = loss_fn(last_output, y_train)\n",
    "print (loss)\n",
    "model"
   ]
  },
  {
   "cell_type": "code",
   "execution_count": null,
   "metadata": {},
   "outputs": [],
   "source": []
  }
 ],
 "metadata": {
  "celltoolbar": "Raw Cell Format",
  "kernelspec": {
   "display_name": "Python 3",
   "language": "python",
   "name": "python3"
  },
  "language_info": {
   "codemirror_mode": {
    "name": "ipython",
    "version": 3
   },
   "file_extension": ".py",
   "mimetype": "text/x-python",
   "name": "python",
   "nbconvert_exporter": "python",
   "pygments_lexer": "ipython3",
   "version": "3.6.4"
  }
 },
 "nbformat": 4,
 "nbformat_minor": 2
}
