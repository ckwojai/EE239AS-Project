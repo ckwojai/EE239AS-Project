{
 "cells": [
  {
   "cell_type": "code",
   "execution_count": 47,
   "metadata": {},
   "outputs": [],
   "source": [
    "import numpy as np\n",
    "import h5py\n",
    "import torch\n",
    "#from torch.utils.data import Dataset, DataLoader\n",
    "# import torch.utils.data as data\n",
    "import torch.utils.data as data_utils\n",
    "from torch.utils.data.dataset import random_split\n",
    "import numpy as np\n",
    "from torch.autograd import Variable\n",
    "import torch.nn as nn\n",
    "import torch.optim as optim"
   ]
  },
  {
   "cell_type": "code",
   "execution_count": 48,
   "metadata": {},
   "outputs": [],
   "source": [
    "# helper functions\n",
    "\n",
    "# make minibatch for training\n",
    "def minibatch(X, y, batch_size=50):\n",
    "    X = X.data.numpy()\n",
    "    y = y.data.numpy()\n",
    "    N = X.shape[0]\n",
    "    batch_mask = np.random.choice(N, batch_size)\n",
    "    X_batch = X[batch_mask]\n",
    "    y_batch = y[batch_mask]\n",
    "    return Variable(torch.Tensor(X_batch)), Variable(torch.Tensor(y_batch))"
   ]
  },
  {
   "cell_type": "markdown",
   "metadata": {
    "raw_mimetype": "text/markdown"
   },
   "source": [
    "Helper Clases"
   ]
  },
  {
   "cell_type": "code",
   "execution_count": 49,
   "metadata": {},
   "outputs": [],
   "source": [
    "class EEGDataset(data_utils.Dataset):\n",
    "    \"\"\"EEG dataset.\"\"\"\n",
    "    def __init__(self, X, y):\n",
    "        self.X = X;\n",
    "        self.y = y;\n",
    "    def __len__(self):\n",
    "        return len(self.X)\n",
    "\n",
    "    def __getitem__(self, idx):\n",
    "        return self.X[idx], self.y[idx]\n",
    "    \n",
    "class Flatten(nn.Module):\n",
    "    def forward(self, x):\n",
    "        N, E, T = x.size() \n",
    "        return x.view(N, -1)"
   ]
  },
  {
   "cell_type": "markdown",
   "metadata": {},
   "source": [
    "Load Data"
   ]
  },
  {
   "cell_type": "code",
   "execution_count": 50,
   "metadata": {},
   "outputs": [
    {
     "name": "stdout",
     "output_type": "stream",
     "text": [
      "<HDF5 file \"A01T_slice.mat\" (mode r)>\n",
      "(288, 23, 1000)\n"
     ]
    }
   ],
   "source": [
    "A01T = h5py.File('project_datasets/A01T_slice.mat', 'r')\n",
    "print (A01T)\n",
    "X = np.copy(A01T['image'])\n",
    "y = np.copy(A01T['type'])\n",
    "X = X[:, 0:23, :] # only goes to 23 since you dont use last 3 channels\n",
    "# X = np.moveaxis(X, -1, 0)\n",
    "y = y[0,0:X.shape[0]:1]\n",
    "#y = np.asarray(y, dtype=np.int32)\n",
    "#subtract 769 so classes start at 0\n",
    "y = y - 769\n",
    "print (np.shape(X))"
   ]
  },
  {
   "cell_type": "code",
   "execution_count": 51,
   "metadata": {},
   "outputs": [],
   "source": [
    "data = EEGDataset(X,y)\n",
    "dset = {}\n",
    "dset['train'], dset['val'], dset['test'] = random_split(data, [len(data)-100, 50, 50])\n",
    "#num_workers for GPU stuff\n",
    "#dataloaders = {x: data_utils.DataLoader(dset[x], batch_size=10, shuffle=True, num_workers=1) for x in ['train', 'val', 'test']}\n",
    "dataloaders = {x: data_utils.DataLoader(dset[x], batch_size=50, shuffle=True) for x in ['train', 'val', 'test']}\n",
    "\n",
    "channels = 23\n",
    "classes = 4\n",
    "#for i_batch, sample_batched in enumerate(dataloaders['train']):\n",
    "#    X, y = sample_batched\n",
    "#    print (X)"
   ]
  },
  {
   "cell_type": "code",
   "execution_count": 12,
   "metadata": {},
   "outputs": [],
   "source": [
    "# toy data\n",
    "#N, E, T= 200, 10, 100\n",
    "#C = 4\n",
    "#X_train = Variable(torch.randn(T, N, E))\n",
    "\n",
    "#y = np.random.randint(0, 4, size=100)\n",
    "#y = Variable(torch.Tensor(y), requires_grad=False)\n",
    "#y_train = Variable(torch.LongTensor(N).random_(0, C-1))\n",
    "#actual = y_train.data.numpy()\n",
    "#X.type(dtype)\n",
    "#y.type(dtype)"
   ]
  },
  {
   "cell_type": "code",
   "execution_count": 56,
   "metadata": {},
   "outputs": [],
   "source": [
    "dtype = torch.DoubleTensor\n",
    "model = nn.Sequential(\n",
    "    nn.LSTM(channels, classes, 2)\n",
    ")\n",
    "model.type(dtype)\n",
    "loss_fn = nn.CrossEntropyLoss().type(dtype)\n",
    "optimizer = optim.Adam(model.parameters(), lr=1e-2)"
   ]
  },
  {
   "cell_type": "code",
   "execution_count": null,
   "metadata": {
    "scrolled": true
   },
   "outputs": [
    {
     "name": "stdout",
     "output_type": "stream",
     "text": [
      "(0 batch) loss: 377.160018\n",
      "(1 batch) loss: 328.980050\n",
      "(2 batch) loss: 335.640050\n",
      "(3 batch) loss: 306.684219\n",
      "(Epoch 1 / 10) train acc: 0.212766; val_acc: 0.200000\n",
      "(0 batch) loss: 352.940000\n",
      "(1 batch) loss: 365.780068\n",
      "(2 batch) loss: 300.440056\n",
      "(3 batch) loss: 336.447368\n",
      "(Epoch 2 / 10) train acc: 0.212766; val_acc: 0.200000\n",
      "(0 batch) loss: 354.100000\n",
      "(1 batch) loss: 351.100007\n",
      "(2 batch) loss: 294.600068\n",
      "(3 batch) loss: 361.921118\n",
      "(Epoch 3 / 10) train acc: 0.212766; val_acc: 0.200000\n",
      "(0 batch) loss: 334.640074\n",
      "(1 batch) loss: 420.180000\n",
      "(2 batch) loss: 287.200050\n",
      "(3 batch) loss: 306.368421\n",
      "(Epoch 4 / 10) train acc: 0.212766; val_acc: 0.200000\n",
      "(0 batch) loss: 332.380117\n",
      "(1 batch) loss: 328.560007\n",
      "(2 batch) loss: 331.460000\n",
      "(3 batch) loss: 371.657895\n",
      "(Epoch 5 / 10) train acc: 0.212766; val_acc: 0.200000\n",
      "(0 batch) loss: 303.760018\n",
      "(1 batch) loss: 342.900000\n",
      "(2 batch) loss: 320.500056\n",
      "(3 batch) loss: 404.868486\n",
      "(Epoch 6 / 10) train acc: 0.212766; val_acc: 0.200000\n",
      "(0 batch) loss: 387.120000\n",
      "(1 batch) loss: 344.360056\n",
      "(2 batch) loss: 285.840050\n",
      "(3 batch) loss: 338.868445\n",
      "(Epoch 7 / 10) train acc: 0.212766; val_acc: 0.200000\n",
      "(0 batch) loss: 328.400056\n",
      "(1 batch) loss: 394.120000\n",
      "(2 batch) loss: 368.840050\n",
      "(3 batch) loss: 241.447393\n"
     ]
    }
   ],
   "source": [
    "#training\n",
    "\n",
    "num_epochs = 10\n",
    "batch_size = 10\n",
    "\n",
    "#iterations_per_epoch = N//batch_size\n",
    "best_val_acc = 0\n",
    "train_acc_at_best_val = 0\n",
    "\n",
    "#for epoch in range(1):\n",
    "for epoch in range(num_epochs):\n",
    "    #for t in range(iterations_per_epoch):\n",
    "    for i, sample_batched in enumerate(dataloaders['train']):\n",
    "        \n",
    "        X_train, y_train = sample_batched\n",
    "        # Flip axis first\n",
    "        X_train = torch.Tensor(np.moveaxis(X_train.numpy(), -1, 0))\n",
    "        X_train = Variable(X_train, requires_grad=True).type(dtype)\n",
    "        y_train = Variable(y_train).long()\n",
    "        \n",
    "        # Calculate the loss\n",
    "        scores, _ = model(X_train)\n",
    "        _, y_pred = torch.max(scores, 0)\n",
    "        y_pred = Variable(y_pred.data, requires_grad=True)\n",
    "        y_pred = y_pred.type(dtype)\n",
    "        loss = loss_fn(y_pred, y_train)\n",
    "        print('(%d batch) loss: %f' % (i, loss))\n",
    "        # Do backpropagation\n",
    "        model.zero_grad()\n",
    "        loss.backward()\n",
    "        # Update the parameters\n",
    "        optimizer.step()\n",
    "        ## Training Accuracy After 1 epoch\n",
    "        y_pred_tot = []\n",
    "        y_train_tot = []\n",
    "    for i_batch, sample_batched in enumerate(dataloaders['train']):\n",
    "        X_train, y_train = sample_batched\n",
    "        # Flip axis first\n",
    "        X_train = torch.Tensor(np.moveaxis(X_train.numpy(), -1, 0))\n",
    "        X_train = Variable(X_train, requires_grad=True).type(dtype)\n",
    "        y_train = Variable(y_train).long()\n",
    "        # Calculate the loss\n",
    "        scores, _ = model(X_train)\n",
    "        _, y_pred = torch.max(scores, 0)\n",
    "        _, y_pred = torch.max(y_pred, 1)\n",
    "        y_pred_tot.append(y_pred.data.numpy())\n",
    "        y_train_tot.append(y_train.data.numpy())    \n",
    "    train_acc = np.mean(np.concatenate(y_pred_tot) == np.concatenate(y_train_tot))\n",
    "        ## Validation Accuracy After 1 epoch    \n",
    "    y_pred_tot = []\n",
    "    y_val_tot = []\n",
    "    for i_batch, sample_batched in enumerate(dataloaders['val']):\n",
    "        X_val, y_val = sample_batched\n",
    "        # Flip axis first\n",
    "        X_val = torch.Tensor(np.moveaxis(X_val.numpy(), -1, 0))\n",
    "        X_val = Variable(X_val, requires_grad=True).type(dtype)\n",
    "        y_val = Variable(y_val).long()\n",
    "        # Calculate the loss\n",
    "        scores, _ = model(X_val)\n",
    "        _, y_pred = torch.max(scores, 0)\n",
    "        _, y_pred = torch.max(y_pred, 1)\n",
    "        y_pred_tot.append(y_pred.data.numpy())\n",
    "        y_val_tot.append(y_val.data.numpy())\n",
    "    val_acc = np.mean(np.concatenate(y_pred_tot) == np.concatenate(y_val_tot))\n",
    "    print('(Epoch %d / %d) train acc: %f; val_acc: %f' % (epoch+1, num_epochs, train_acc, val_acc))\n",
    "        "
   ]
  },
  {
   "cell_type": "code",
   "execution_count": 110,
   "metadata": {},
   "outputs": [
    {
     "name": "stdout",
     "output_type": "stream",
     "text": [
      "Variable containing:\n",
      " 0.6695\n",
      "[torch.FloatTensor of size 1]\n",
      "\n"
     ]
    },
    {
     "data": {
      "text/plain": [
       "Sequential(\n",
       "  (0): LSTM(10, 4, num_layers=2)\n",
       ")"
      ]
     },
     "execution_count": 110,
     "metadata": {},
     "output_type": "execute_result"
    }
   ],
   "source": [
    "y_pred = model(X_train)\n",
    "loss = loss_fn(last_output, y_train)\n",
    "print (loss)\n",
    "model"
   ]
  },
  {
   "cell_type": "code",
   "execution_count": null,
   "metadata": {},
   "outputs": [],
   "source": []
  }
 ],
 "metadata": {
  "celltoolbar": "Raw Cell Format",
  "kernelspec": {
   "display_name": "Python 3",
   "language": "python",
   "name": "python3"
  }
 },
 "nbformat": 4,
 "nbformat_minor": 2
}
