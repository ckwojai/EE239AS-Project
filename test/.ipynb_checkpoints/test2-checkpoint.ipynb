{
 "cells": [
  {
   "cell_type": "code",
   "execution_count": 9,
   "metadata": {},
   "outputs": [],
   "source": [
    "import torch\n",
    "import numpy as np\n",
    "from torch.autograd import Variable\n",
    "import torch.nn as nn\n",
    "import torch.optim as optim\n",
    "class Flatten(nn.Module):\n",
    "    def forward(self, x):\n",
    "        N, C, H, W = x.size() \n",
    "        return x.view(N, -1)"
   ]
  },
  {
   "cell_type": "code",
   "execution_count": 10,
   "metadata": {},
   "outputs": [],
   "source": [
    "dtype = torch.FloatTensor\n",
    "N, C, H, W = 128, 3, 32, 32\n",
    "x = Variable(torch.randn(N, C, H, W))\n",
    "y = np.random.randint(0, 10, size=128)\n",
    "y = Variable(torch.Tensor(y), requires_grad=False)\n",
    "x.type(dtype)\n",
    "y.type(dtype)\n",
    "\n",
    "model = nn.Sequential(\n",
    "    nn.Conv2d(3, 32, kernel_size=7, stride=1),\n",
    "    nn.ReLU(inplace=True),\n",
    "    nn.BatchNorm2d(num_features=32),\n",
    "    nn.MaxPool2d(kernel_size=2, stride=2),\n",
    "    Flatten(),\n",
    "    nn.Linear(5408, 1024),\n",
    "    nn.ReLU(inplace=True),\n",
    "    nn.Linear(1024, 10),\n",
    ")\n",
    "model.type(dtype)\n",
    "loss_fn = nn.CrossEntropyLoss().type(dtype)\n",
    "optimizer = optim.RMSprop(model.parameters(), lr=1e-2)"
   ]
  },
  {
   "cell_type": "code",
   "execution_count": 11,
   "metadata": {},
   "outputs": [
    {
     "name": "stdout",
     "output_type": "stream",
     "text": [
      "0\n",
      "1\n",
      "2\n",
      "3\n",
      "4\n",
      "5\n",
      "6\n",
      "7\n",
      "8\n",
      "9\n"
     ]
    }
   ],
   "source": [
    "for t in range(10):\n",
    "    # Calculate the loss\n",
    "    y_pred = model(x)\n",
    "    loss = loss_fn(y_pred, y.type(torch.LongTensor))\n",
    "    # Do backpropagation\n",
    "    model.zero_grad()\n",
    "    loss.backward()\n",
    "    # Update the parameters\n",
    "    optimizer.step()\n",
    "    \n",
    "    print (t)"
   ]
  },
  {
   "cell_type": "code",
   "execution_count": 14,
   "metadata": {},
   "outputs": [
    {
     "name": "stdout",
     "output_type": "stream",
     "text": [
      "Variable containing:\n",
      "1.00000e-02 *\n",
      "  3.2788\n",
      "[torch.FloatTensor of size 1]\n",
      "\n"
     ]
    },
    {
     "data": {
      "text/plain": [
       "Sequential(\n",
       "  (0): Conv2d(3, 32, kernel_size=(7, 7), stride=(1, 1))\n",
       "  (1): ReLU(inplace)\n",
       "  (2): BatchNorm2d(32, eps=1e-05, momentum=0.1, affine=True)\n",
       "  (3): MaxPool2d(kernel_size=(2, 2), stride=(2, 2), dilation=(1, 1), ceil_mode=False)\n",
       "  (4): Flatten(\n",
       "  )\n",
       "  (5): Linear(in_features=5408, out_features=1024, bias=True)\n",
       "  (6): ReLU(inplace)\n",
       "  (7): Linear(in_features=1024, out_features=10, bias=True)\n",
       ")"
      ]
     },
     "execution_count": 14,
     "metadata": {},
     "output_type": "execute_result"
    }
   ],
   "source": [
    "y_pred = model(x)\n",
    "loss = loss_fn(y_pred, y.type(torch.LongTensor))\n",
    "print (loss)\n",
    "model"
   ]
  },
  {
   "cell_type": "code",
   "execution_count": null,
   "metadata": {},
   "outputs": [],
   "source": []
  }
 ],
 "metadata": {
  "kernelspec": {
   "display_name": "Python 3",
   "language": "python",
   "name": "python3"
  },
  "language_info": {
   "codemirror_mode": {
    "name": "ipython",
    "version": 3
   },
   "file_extension": ".py",
   "mimetype": "text/x-python",
   "name": "python",
   "nbconvert_exporter": "python",
   "pygments_lexer": "ipython3",
   "version": "3.6.4"
  }
 },
 "nbformat": 4,
 "nbformat_minor": 2
}
